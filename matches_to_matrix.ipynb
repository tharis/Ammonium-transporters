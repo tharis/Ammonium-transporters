{
 "cells": [
  {
   "cell_type": "code",
   "execution_count": 1,
   "metadata": {},
   "outputs": [],
   "source": [
    "import matplotlib.pyplot as plt\n",
    "import numpy as np\n",
    "import pandas as pd"
   ]
  },
  {
   "cell_type": "code",
   "execution_count": 2,
   "metadata": {},
   "outputs": [
    {
     "name": "stdout",
     "output_type": "stream",
     "text": [
      "Getting IDs-Copy1.ipynb\r\n",
      "Getting Uniprot IDs from big file-Copy1.ipynb\r\n",
      "IDs1.txt\r\n",
      "IDs10.txt\r\n",
      "IDs11.txt\r\n",
      "IDs2.txt\r\n",
      "IDs3.txt\r\n",
      "IDs4.txt\r\n",
      "IDs5.txt\r\n",
      "IDs6.txt\r\n",
      "IDs7.txt\r\n",
      "IDs8.txt\r\n",
      "IDs9.txt\r\n",
      "Ids.txt\r\n",
      "Uniprotfulllength.fasta\r\n",
      "Untitled.ipynb\r\n",
      "helix1.hmm\r\n",
      "helix1.out\r\n",
      "helix10.hmm\r\n",
      "helix10.out\r\n",
      "helix11.hmm\r\n",
      "helix11.out\r\n",
      "helix2.hmm\r\n",
      "helix2.out\r\n",
      "helix3.hmm\r\n",
      "helix3.out\r\n",
      "helix4.hmm\r\n",
      "helix4.out\r\n",
      "helix5.hmm\r\n",
      "helix5.out\r\n",
      "helix6.hmm\r\n",
      "helix6.out\r\n",
      "helix7.hmm\r\n",
      "helix7.out\r\n",
      "helix8.hmm\r\n",
      "helix8.out\r\n",
      "helix9.hmm\r\n",
      "helix9.out\r\n",
      "helixali1.fasta\r\n",
      "helixali1.sto\r\n",
      "helixali10.fasta\r\n",
      "helixali10.sto\r\n",
      "helixali11.fasta\r\n",
      "helixali11.sto\r\n",
      "helixali2.fasta\r\n",
      "helixali2.sto\r\n",
      "helixali3.fasta\r\n",
      "helixali3.sto\r\n",
      "helixali4.fasta\r\n",
      "helixali4.sto\r\n",
      "helixali5.fasta\r\n",
      "helixali5.sto\r\n",
      "helixali6.fasta\r\n",
      "helixali6.sto\r\n",
      "helixali7.fasta\r\n",
      "helixali7.sto\r\n",
      "helixali8.fasta\r\n",
      "helixali8.sto\r\n",
      "helixali9.fasta\r\n",
      "helixali9.sto\r\n",
      "matches_to_matrix.ipynb\r\n",
      "stockholm_example.ipynb\r\n"
     ]
    }
   ],
   "source": [
    "!ls"
   ]
  },
  {
   "cell_type": "markdown",
   "metadata": {},
   "source": [
    "First create a dictionary with all known IDs"
   ]
  },
  {
   "cell_type": "code",
   "execution_count": 29,
   "metadata": {},
   "outputs": [],
   "source": [
    "matchdict = {}\n",
    "with open(\"Ids.txt\") as ifh:\n",
    "    for idx in (_.strip() for _ in ifh.readlines()):\n",
    "        matchdict[idx] = [0] * 11"
   ]
  },
  {
   "cell_type": "code",
   "execution_count": 30,
   "metadata": {},
   "outputs": [
    {
     "data": {
      "text/plain": [
       "63623"
      ]
     },
     "execution_count": 30,
     "metadata": {},
     "output_type": "execute_result"
    }
   ],
   "source": [
    "len(matchdict)"
   ]
  },
  {
   "cell_type": "markdown",
   "metadata": {},
   "source": [
    "Load in each series of matches in turn (skipping any line that isn't in the dictionary)"
   ]
  },
  {
   "cell_type": "code",
   "execution_count": 31,
   "metadata": {},
   "outputs": [
    {
     "name": "stdout",
     "output_type": "stream",
     "text": [
      "helixidx=1 failcount=0\n",
      "helixidx=2 failcount=1\n",
      "helixidx=3 failcount=1\n",
      "helixidx=4 failcount=1\n",
      "helixidx=5 failcount=1\n",
      "helixidx=6 failcount=1\n",
      "helixidx=7 failcount=1\n",
      "helixidx=8 failcount=1\n",
      "helixidx=9 failcount=1\n",
      "helixidx=10 failcount=1\n",
      "helixidx=11 failcount=1\n"
     ]
    }
   ],
   "source": [
    "for helix in range(11):\n",
    "    failcount = 0\n",
    "    helixidx = helix+1\n",
    "    with open(f\"IDs{helixidx}.txt\") as ifh:\n",
    "        for idx in (_.strip() for _ in ifh.readlines()):\n",
    "            try:\n",
    "                matchdict[idx][helix] += 1\n",
    "            except KeyError:\n",
    "                # Catching count of failed additions to dictionary\n",
    "                failcount +=1\n",
    "        print(f\"{helixidx=} {failcount=}\")"
   ]
  },
  {
   "cell_type": "code",
   "execution_count": 32,
   "metadata": {},
   "outputs": [
    {
     "data": {
      "text/plain": [
       "[('A0A3M6V931', [3, 0, 0, 0, 0, 3, 0, 0, 0, 3, 2]),\n",
       " ('A0A3R7Y3I5', [3, 0, 0, 0, 0, 3, 0, 0, 0, 3, 2]),\n",
       " ('A0A0G4MCH1', [2, 2, 0, 2, 0, 2, 0, 0, 2, 0, 2]),\n",
       " ('A0A1I8FXG0', [0, 0, 0, 0, 0, 0, 0, 0, 0, 0, 0]),\n",
       " ('A0A1I8HTF6', [0, 0, 0, 0, 0, 0, 0, 0, 0, 0, 0]),\n",
       " ('A0A3M6UJ14', [0, 0, 0, 0, 0, 0, 0, 0, 0, 0, 1]),\n",
       " ('A0A336MBT3', [0, 0, 0, 0, 0, 0, 0, 0, 0, 1, 0]),\n",
       " ('A0A1Y1Y6N9', [2, 2, 0, 0, 0, 2, 0, 0, 0, 2, 0]),\n",
       " ('A0A1I8GPP1', [0, 0, 0, 0, 0, 0, 0, 0, 0, 0, 0]),\n",
       " ('A0A553N736', [0, 0, 0, 0, 0, 0, 0, 0, 0, 1, 0])]"
      ]
     },
     "execution_count": 32,
     "metadata": {},
     "output_type": "execute_result"
    }
   ],
   "source": [
    "list(matchdict.items())[:10]"
   ]
  },
  {
   "cell_type": "code",
   "execution_count": 33,
   "metadata": {},
   "outputs": [],
   "source": [
    "dfm = pd.DataFrame.from_dict(matchdict, orient=\"index\")"
   ]
  },
  {
   "cell_type": "code",
   "execution_count": 34,
   "metadata": {},
   "outputs": [
    {
     "data": {
      "text/html": [
       "<div>\n",
       "<style scoped>\n",
       "    .dataframe tbody tr th:only-of-type {\n",
       "        vertical-align: middle;\n",
       "    }\n",
       "\n",
       "    .dataframe tbody tr th {\n",
       "        vertical-align: top;\n",
       "    }\n",
       "\n",
       "    .dataframe thead th {\n",
       "        text-align: right;\n",
       "    }\n",
       "</style>\n",
       "<table border=\"1\" class=\"dataframe\">\n",
       "  <thead>\n",
       "    <tr style=\"text-align: right;\">\n",
       "      <th></th>\n",
       "      <th>0</th>\n",
       "      <th>1</th>\n",
       "      <th>2</th>\n",
       "      <th>3</th>\n",
       "      <th>4</th>\n",
       "      <th>5</th>\n",
       "      <th>6</th>\n",
       "      <th>7</th>\n",
       "      <th>8</th>\n",
       "      <th>9</th>\n",
       "      <th>10</th>\n",
       "    </tr>\n",
       "  </thead>\n",
       "  <tbody>\n",
       "    <tr>\n",
       "      <th>A0A3M6V931</th>\n",
       "      <td>3</td>\n",
       "      <td>0</td>\n",
       "      <td>0</td>\n",
       "      <td>0</td>\n",
       "      <td>0</td>\n",
       "      <td>3</td>\n",
       "      <td>0</td>\n",
       "      <td>0</td>\n",
       "      <td>0</td>\n",
       "      <td>3</td>\n",
       "      <td>2</td>\n",
       "    </tr>\n",
       "    <tr>\n",
       "      <th>A0A3R7Y3I5</th>\n",
       "      <td>3</td>\n",
       "      <td>0</td>\n",
       "      <td>0</td>\n",
       "      <td>0</td>\n",
       "      <td>0</td>\n",
       "      <td>3</td>\n",
       "      <td>0</td>\n",
       "      <td>0</td>\n",
       "      <td>0</td>\n",
       "      <td>3</td>\n",
       "      <td>2</td>\n",
       "    </tr>\n",
       "    <tr>\n",
       "      <th>A0A0G4MCH1</th>\n",
       "      <td>2</td>\n",
       "      <td>2</td>\n",
       "      <td>0</td>\n",
       "      <td>2</td>\n",
       "      <td>0</td>\n",
       "      <td>2</td>\n",
       "      <td>0</td>\n",
       "      <td>0</td>\n",
       "      <td>2</td>\n",
       "      <td>0</td>\n",
       "      <td>2</td>\n",
       "    </tr>\n",
       "    <tr>\n",
       "      <th>A0A1I8FXG0</th>\n",
       "      <td>0</td>\n",
       "      <td>0</td>\n",
       "      <td>0</td>\n",
       "      <td>0</td>\n",
       "      <td>0</td>\n",
       "      <td>0</td>\n",
       "      <td>0</td>\n",
       "      <td>0</td>\n",
       "      <td>0</td>\n",
       "      <td>0</td>\n",
       "      <td>0</td>\n",
       "    </tr>\n",
       "    <tr>\n",
       "      <th>A0A1I8HTF6</th>\n",
       "      <td>0</td>\n",
       "      <td>0</td>\n",
       "      <td>0</td>\n",
       "      <td>0</td>\n",
       "      <td>0</td>\n",
       "      <td>0</td>\n",
       "      <td>0</td>\n",
       "      <td>0</td>\n",
       "      <td>0</td>\n",
       "      <td>0</td>\n",
       "      <td>0</td>\n",
       "    </tr>\n",
       "    <tr>\n",
       "      <th>...</th>\n",
       "      <td>...</td>\n",
       "      <td>...</td>\n",
       "      <td>...</td>\n",
       "      <td>...</td>\n",
       "      <td>...</td>\n",
       "      <td>...</td>\n",
       "      <td>...</td>\n",
       "      <td>...</td>\n",
       "      <td>...</td>\n",
       "      <td>...</td>\n",
       "      <td>...</td>\n",
       "    </tr>\n",
       "    <tr>\n",
       "      <th>A0A6A6UTM1</th>\n",
       "      <td>0</td>\n",
       "      <td>0</td>\n",
       "      <td>0</td>\n",
       "      <td>0</td>\n",
       "      <td>0</td>\n",
       "      <td>0</td>\n",
       "      <td>0</td>\n",
       "      <td>0</td>\n",
       "      <td>0</td>\n",
       "      <td>0</td>\n",
       "      <td>0</td>\n",
       "    </tr>\n",
       "    <tr>\n",
       "      <th>A0A438JQI9</th>\n",
       "      <td>0</td>\n",
       "      <td>0</td>\n",
       "      <td>0</td>\n",
       "      <td>0</td>\n",
       "      <td>0</td>\n",
       "      <td>0</td>\n",
       "      <td>0</td>\n",
       "      <td>0</td>\n",
       "      <td>0</td>\n",
       "      <td>0</td>\n",
       "      <td>0</td>\n",
       "    </tr>\n",
       "    <tr>\n",
       "      <th>A0A109LCE4</th>\n",
       "      <td>0</td>\n",
       "      <td>0</td>\n",
       "      <td>0</td>\n",
       "      <td>0</td>\n",
       "      <td>0</td>\n",
       "      <td>0</td>\n",
       "      <td>0</td>\n",
       "      <td>0</td>\n",
       "      <td>0</td>\n",
       "      <td>0</td>\n",
       "      <td>0</td>\n",
       "    </tr>\n",
       "    <tr>\n",
       "      <th>A0A0K8TXL7</th>\n",
       "      <td>0</td>\n",
       "      <td>0</td>\n",
       "      <td>0</td>\n",
       "      <td>0</td>\n",
       "      <td>0</td>\n",
       "      <td>0</td>\n",
       "      <td>0</td>\n",
       "      <td>0</td>\n",
       "      <td>0</td>\n",
       "      <td>0</td>\n",
       "      <td>0</td>\n",
       "    </tr>\n",
       "    <tr>\n",
       "      <th>A0A068UE08</th>\n",
       "      <td>0</td>\n",
       "      <td>0</td>\n",
       "      <td>0</td>\n",
       "      <td>0</td>\n",
       "      <td>0</td>\n",
       "      <td>0</td>\n",
       "      <td>0</td>\n",
       "      <td>0</td>\n",
       "      <td>0</td>\n",
       "      <td>0</td>\n",
       "      <td>0</td>\n",
       "    </tr>\n",
       "  </tbody>\n",
       "</table>\n",
       "<p>63623 rows × 11 columns</p>\n",
       "</div>"
      ],
      "text/plain": [
       "            0  1  2  3  4  5  6  7  8  9  10\n",
       "A0A3M6V931  3  0  0  0  0  3  0  0  0  3   2\n",
       "A0A3R7Y3I5  3  0  0  0  0  3  0  0  0  3   2\n",
       "A0A0G4MCH1  2  2  0  2  0  2  0  0  2  0   2\n",
       "A0A1I8FXG0  0  0  0  0  0  0  0  0  0  0   0\n",
       "A0A1I8HTF6  0  0  0  0  0  0  0  0  0  0   0\n",
       "...        .. .. .. .. .. .. .. .. .. ..  ..\n",
       "A0A6A6UTM1  0  0  0  0  0  0  0  0  0  0   0\n",
       "A0A438JQI9  0  0  0  0  0  0  0  0  0  0   0\n",
       "A0A109LCE4  0  0  0  0  0  0  0  0  0  0   0\n",
       "A0A0K8TXL7  0  0  0  0  0  0  0  0  0  0   0\n",
       "A0A068UE08  0  0  0  0  0  0  0  0  0  0   0\n",
       "\n",
       "[63623 rows x 11 columns]"
      ]
     },
     "execution_count": 34,
     "metadata": {},
     "output_type": "execute_result"
    }
   ],
   "source": [
    "dfm"
   ]
  },
  {
   "cell_type": "code",
   "execution_count": 35,
   "metadata": {},
   "outputs": [],
   "source": [
    "arr = np.array(list(matchdict.values()))"
   ]
  },
  {
   "cell_type": "code",
   "execution_count": 36,
   "metadata": {},
   "outputs": [
    {
     "data": {
      "text/plain": [
       "numpy.ndarray"
      ]
     },
     "execution_count": 36,
     "metadata": {},
     "output_type": "execute_result"
    }
   ],
   "source": [
    "type(arr)"
   ]
  },
  {
   "cell_type": "code",
   "execution_count": 41,
   "metadata": {},
   "outputs": [
    {
     "data": {
      "image/png": "[encoded data removed]",
      "text/plain": [
       "<Figure size 432x288 with 2 Axes>"
      ]
     },
     "metadata": {
      "needs_background": "light"
     },
     "output_type": "display_data"
    }
   ],
   "source": [
    "plt.imshow(arr[500:600,:], cmap='hot')\n",
    "plt.colorbar()\n",
    "plt.show()"
   ]
  },
  {
   "cell_type": "code",
   "execution_count": 16,
   "metadata": {},
   "outputs": [
    {
     "data": {
      "text/plain": [
       "array([False, False, False, ..., False, False, False])"
      ]
     },
     "execution_count": 16,
     "metadata": {},
     "output_type": "execute_result"
    }
   ],
   "source": [
    "# True if first and second column are equal to 1\n",
    "all_hit = np.all(arr == 1, axis=1)\n",
    "all_hit"
   ]
  },
  {
   "cell_type": "code",
   "execution_count": 17,
   "metadata": {},
   "outputs": [
    {
     "data": {
      "text/plain": [
       "0"
      ]
     },
     "execution_count": 17,
     "metadata": {},
     "output_type": "execute_result"
    }
   ],
   "source": [
    "# Total count of matches with 1 in first and second position\n",
    "sum(all_hit)"
   ]
  },
  {
   "cell_type": "code",
   "execution_count": 18,
   "metadata": {},
   "outputs": [
    {
     "data": {
      "text/plain": [
       "(array([], dtype=int64),)"
      ]
     },
     "execution_count": 18,
     "metadata": {},
     "output_type": "execute_result"
    }
   ],
   "source": [
    "# Which rows have matches in first and second position?\n",
    "np.where(all_hit)"
   ]
  },
  {
   "cell_type": "code",
   "execution_count": 15,
   "metadata": {},
   "outputs": [
    {
     "data": {
      "text/plain": [
       "array(['A0A0F2PP61', 'A0A0F2NHG8', 'A0A2L2XA79', ..., 'A0A7V2T4A5',\n",
       "       'A0A376U5T1', 'A0A0D0TYP7'], dtype='<U10')"
      ]
     },
     "execution_count": 15,
     "metadata": {},
     "output_type": "execute_result"
    }
   ],
   "source": [
    "# Which sequences do these correspond to?\n",
    "matcharr = np.array(list(matchdict.keys()))\n",
    "matcharr[all_hit]"
   ]
  },
  {
   "cell_type": "code",
   "execution_count": 16,
   "metadata": {},
   "outputs": [
    {
     "name": "stdout",
     "output_type": "stream",
     "text": [
      "idx='A0A0F2PP61' [1, 1]\n",
      "idx='A0A0F2NHG8' [1, 1]\n",
      "idx='A0A2L2XA79' [1, 1]\n",
      "idx='A0A1W1W1D7' [1, 1]\n",
      "idx='K2EVA7' [1, 1]\n",
      "idx='A0A2V7EY94' [1, 1]\n",
      "idx='A0A7V3XLY7' [1, 1]\n",
      "idx='A0A2V6PUL0' [1, 1]\n",
      "idx='A0A358QVY4' [1, 1]\n",
      "idx='W0I1H5' [1, 1]\n"
     ]
    }
   ],
   "source": [
    "# Check result\n",
    "for idx in matcharr[all_hit][:10]:\n",
    "    print(f\"{idx=} {matchdict[idx]}\")"
   ]
  },
  {
   "cell_type": "code",
   "execution_count": 27,
   "metadata": {},
   "outputs": [
    {
     "name": "stdout",
     "output_type": "stream",
     "text": [
      "len(matcharr[hit_in_2])=17096\n"
     ]
    }
   ],
   "source": [
    "# Which sequences have single matches to helix 2?\n",
    "hit_in_2 = arr[:, 1] == 1  # Boolean array\n",
    "matcharr[hit_in_2]  # All sequences with single match to helix 2\n",
    "print(f\"{len(matcharr[hit_in_2])=}\")"
   ]
  },
  {
   "cell_type": "code",
   "execution_count": 35,
   "metadata": {},
   "outputs": [
    {
     "data": {
      "text/plain": [
       "array(['A0A3M6V931', 'A0A3R7Y3I5', 'A0A0G4MCH1', 'A0A1Y1Y6N9',\n",
       "       'A0A0G4KE81', 'J9I5T7', 'A0A2J8A3F4', 'J9ID18', 'A0A553P3C1',\n",
       "       'G5CA94'], dtype='<U10')"
      ]
     },
     "execution_count": 35,
     "metadata": {},
     "output_type": "execute_result"
    }
   ],
   "source": [
    "# Multiple hits in any column?\n",
    "multi_hit = np.any(arr > 1, axis=1)\n",
    "matcharr[multi_hit]"
   ]
  },
  {
   "cell_type": "code",
   "execution_count": 36,
   "metadata": {},
   "outputs": [
    {
     "name": "stdout",
     "output_type": "stream",
     "text": [
      "idx='A0A3M6V931' [3, 0]\n",
      "idx='A0A3R7Y3I5' [3, 0]\n",
      "idx='A0A0G4MCH1' [2, 2]\n",
      "idx='A0A1Y1Y6N9' [2, 2]\n",
      "idx='A0A0G4KE81' [2, 2]\n",
      "idx='J9I5T7' [2, 0]\n",
      "idx='A0A2J8A3F4' [0, 2]\n",
      "idx='J9ID18' [2, 0]\n",
      "idx='A0A553P3C1' [2, 0]\n",
      "idx='G5CA94' [2, 0]\n"
     ]
    }
   ],
   "source": [
    "for idx in matcharr[multi_hit]:\n",
    "    print(f\"{idx=} {matchdict[idx]}\")"
   ]
  },
  {
   "cell_type": "code",
   "execution_count": null,
   "metadata": {},
   "outputs": [],
   "source": []
  }
 ],
 "metadata": {
  "kernelspec": {
   "display_name": "Python 3",
   "language": "python",
   "name": "python3"
  },
  "language_info": {
   "codemirror_mode": {
    "name": "ipython",
    "version": 3
   },
   "file_extension": ".py",
   "mimetype": "text/x-python",
   "name": "python",
   "nbconvert_exporter": "python",
   "pygments_lexer": "ipython3",
   "version": "3.8.3"
  }
 },
 "nbformat": 4,
 "nbformat_minor": 5
}
