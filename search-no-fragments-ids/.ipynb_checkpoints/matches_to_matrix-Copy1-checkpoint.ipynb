{
 "cells": [
  {
   "cell_type": "code",
   "execution_count": 1,
   "metadata": {},
   "outputs": [],
   "source": [
    "import matplotlib.pyplot as plt\n",
    "import numpy as np\n",
    "import pandas as pd"
   ]
  },
  {
   "cell_type": "markdown",
   "metadata": {},
   "source": [
    "First create a dictionary with all known IDs"
   ]
  },
  {
   "cell_type": "code",
   "execution_count": 2,
   "metadata": {},
   "outputs": [],
   "source": [
    "matchdict = {}\n",
    "with open(\"Ids.txt\") as ifh:\n",
    "    for idx in (_.strip() for _ in ifh.readlines()):\n",
    "        matchdict[idx] = [0] * 11"
   ]
  },
  {
   "cell_type": "code",
   "execution_count": 3,
   "metadata": {},
   "outputs": [
    {
     "data": {
      "text/plain": [
       "63623"
      ]
     },
     "execution_count": 3,
     "metadata": {},
     "output_type": "execute_result"
    }
   ],
   "source": [
    "len(matchdict)"
   ]
  },
  {
   "cell_type": "markdown",
   "metadata": {},
   "source": [
    "Load in each series of matches in turn (skipping any line that isn't in the dictionary)"
   ]
  },
  {
   "cell_type": "code",
   "execution_count": 4,
   "metadata": {},
   "outputs": [
    {
     "name": "stdout",
     "output_type": "stream",
     "text": [
      "helixidx=1 failcount=0\n",
      "helixidx=2 failcount=1\n",
      "helixidx=3 failcount=1\n",
      "helixidx=4 failcount=1\n",
      "helixidx=5 failcount=1\n",
      "helixidx=6 failcount=1\n",
      "helixidx=7 failcount=1\n",
      "helixidx=8 failcount=1\n",
      "helixidx=9 failcount=1\n",
      "helixidx=10 failcount=1\n",
      "helixidx=11 failcount=1\n"
     ]
    }
   ],
   "source": [
    "for helix in range(11):\n",
    "    failcount = 0\n",
    "    helixidx = helix+1\n",
    "    with open(f\"IDs{helixidx}.txt\") as ifh:\n",
    "        for idx in (_.strip() for _ in ifh.readlines()):\n",
    "            try:\n",
    "                matchdict[idx][helix] += 1\n",
    "            except KeyError:\n",
    "                # Catching count of failed additions to dictionary\n",
    "                failcount +=1\n",
    "        print(f\"{helixidx=} {failcount=}\")"
   ]
  },
  {
   "cell_type": "code",
   "execution_count": 5,
   "metadata": {},
   "outputs": [
    {
     "data": {
      "text/plain": [
       "[('A0A3M6V931', [3, 0, 0, 0, 0, 3, 0, 0, 0, 3, 2]),\n",
       " ('A0A3R7Y3I5', [3, 0, 0, 0, 0, 3, 0, 0, 0, 3, 2]),\n",
       " ('A0A0G4MCH1', [2, 2, 0, 2, 0, 2, 0, 0, 2, 0, 2]),\n",
       " ('A0A1I8FXG0', [0, 0, 0, 0, 0, 0, 0, 0, 0, 0, 0]),\n",
       " ('A0A1I8HTF6', [0, 0, 0, 0, 0, 0, 0, 0, 0, 0, 0]),\n",
       " ('A0A3M6UJ14', [0, 0, 0, 0, 0, 0, 0, 0, 0, 0, 1]),\n",
       " ('A0A336MBT3', [0, 0, 0, 0, 0, 0, 0, 0, 0, 1, 0]),\n",
       " ('A0A1Y1Y6N9', [2, 2, 0, 0, 0, 2, 0, 0, 0, 2, 0]),\n",
       " ('A0A1I8GPP1', [0, 0, 0, 0, 0, 0, 0, 0, 0, 0, 0]),\n",
       " ('A0A553N736', [0, 0, 0, 0, 0, 0, 0, 0, 0, 1, 0])]"
      ]
     },
     "execution_count": 5,
     "metadata": {},
     "output_type": "execute_result"
    }
   ],
   "source": [
    "list(matchdict.items())[:10]"
   ]
  },
  {
   "cell_type": "code",
   "execution_count": 6,
   "metadata": {},
   "outputs": [],
   "source": [
    "dfm = pd.DataFrame.from_dict(matchdict, orient=\"index\")"
   ]
  },
  {
   "cell_type": "code",
   "execution_count": 7,
   "metadata": {},
   "outputs": [
    {
     "data": {
      "text/html": [
       "<div>\n",
       "<style scoped>\n",
       "    .dataframe tbody tr th:only-of-type {\n",
       "        vertical-align: middle;\n",
       "    }\n",
       "\n",
       "    .dataframe tbody tr th {\n",
       "        vertical-align: top;\n",
       "    }\n",
       "\n",
       "    .dataframe thead th {\n",
       "        text-align: right;\n",
       "    }\n",
       "</style>\n",
       "<table border=\"1\" class=\"dataframe\">\n",
       "  <thead>\n",
       "    <tr style=\"text-align: right;\">\n",
       "      <th></th>\n",
       "      <th>0</th>\n",
       "      <th>1</th>\n",
       "      <th>2</th>\n",
       "      <th>3</th>\n",
       "      <th>4</th>\n",
       "      <th>5</th>\n",
       "      <th>6</th>\n",
       "      <th>7</th>\n",
       "      <th>8</th>\n",
       "      <th>9</th>\n",
       "      <th>10</th>\n",
       "    </tr>\n",
       "  </thead>\n",
       "  <tbody>\n",
       "    <tr>\n",
       "      <th>A0A3M6V931</th>\n",
       "      <td>3</td>\n",
       "      <td>0</td>\n",
       "      <td>0</td>\n",
       "      <td>0</td>\n",
       "      <td>0</td>\n",
       "      <td>3</td>\n",
       "      <td>0</td>\n",
       "      <td>0</td>\n",
       "      <td>0</td>\n",
       "      <td>3</td>\n",
       "      <td>2</td>\n",
       "    </tr>\n",
       "    <tr>\n",
       "      <th>A0A3R7Y3I5</th>\n",
       "      <td>3</td>\n",
       "      <td>0</td>\n",
       "      <td>0</td>\n",
       "      <td>0</td>\n",
       "      <td>0</td>\n",
       "      <td>3</td>\n",
       "      <td>0</td>\n",
       "      <td>0</td>\n",
       "      <td>0</td>\n",
       "      <td>3</td>\n",
       "      <td>2</td>\n",
       "    </tr>\n",
       "    <tr>\n",
       "      <th>A0A0G4MCH1</th>\n",
       "      <td>2</td>\n",
       "      <td>2</td>\n",
       "      <td>0</td>\n",
       "      <td>2</td>\n",
       "      <td>0</td>\n",
       "      <td>2</td>\n",
       "      <td>0</td>\n",
       "      <td>0</td>\n",
       "      <td>2</td>\n",
       "      <td>0</td>\n",
       "      <td>2</td>\n",
       "    </tr>\n",
       "    <tr>\n",
       "      <th>A0A1I8FXG0</th>\n",
       "      <td>0</td>\n",
       "      <td>0</td>\n",
       "      <td>0</td>\n",
       "      <td>0</td>\n",
       "      <td>0</td>\n",
       "      <td>0</td>\n",
       "      <td>0</td>\n",
       "      <td>0</td>\n",
       "      <td>0</td>\n",
       "      <td>0</td>\n",
       "      <td>0</td>\n",
       "    </tr>\n",
       "    <tr>\n",
       "      <th>A0A1I8HTF6</th>\n",
       "      <td>0</td>\n",
       "      <td>0</td>\n",
       "      <td>0</td>\n",
       "      <td>0</td>\n",
       "      <td>0</td>\n",
       "      <td>0</td>\n",
       "      <td>0</td>\n",
       "      <td>0</td>\n",
       "      <td>0</td>\n",
       "      <td>0</td>\n",
       "      <td>0</td>\n",
       "    </tr>\n",
       "    <tr>\n",
       "      <th>...</th>\n",
       "      <td>...</td>\n",
       "      <td>...</td>\n",
       "      <td>...</td>\n",
       "      <td>...</td>\n",
       "      <td>...</td>\n",
       "      <td>...</td>\n",
       "      <td>...</td>\n",
       "      <td>...</td>\n",
       "      <td>...</td>\n",
       "      <td>...</td>\n",
       "      <td>...</td>\n",
       "    </tr>\n",
       "    <tr>\n",
       "      <th>A0A6A6UTM1</th>\n",
       "      <td>0</td>\n",
       "      <td>0</td>\n",
       "      <td>0</td>\n",
       "      <td>0</td>\n",
       "      <td>0</td>\n",
       "      <td>0</td>\n",
       "      <td>0</td>\n",
       "      <td>0</td>\n",
       "      <td>0</td>\n",
       "      <td>0</td>\n",
       "      <td>0</td>\n",
       "    </tr>\n",
       "    <tr>\n",
       "      <th>A0A438JQI9</th>\n",
       "      <td>0</td>\n",
       "      <td>0</td>\n",
       "      <td>0</td>\n",
       "      <td>0</td>\n",
       "      <td>0</td>\n",
       "      <td>0</td>\n",
       "      <td>0</td>\n",
       "      <td>0</td>\n",
       "      <td>0</td>\n",
       "      <td>0</td>\n",
       "      <td>0</td>\n",
       "    </tr>\n",
       "    <tr>\n",
       "      <th>A0A109LCE4</th>\n",
       "      <td>0</td>\n",
       "      <td>0</td>\n",
       "      <td>0</td>\n",
       "      <td>0</td>\n",
       "      <td>0</td>\n",
       "      <td>0</td>\n",
       "      <td>0</td>\n",
       "      <td>0</td>\n",
       "      <td>0</td>\n",
       "      <td>0</td>\n",
       "      <td>0</td>\n",
       "    </tr>\n",
       "    <tr>\n",
       "      <th>A0A0K8TXL7</th>\n",
       "      <td>0</td>\n",
       "      <td>0</td>\n",
       "      <td>0</td>\n",
       "      <td>0</td>\n",
       "      <td>0</td>\n",
       "      <td>0</td>\n",
       "      <td>0</td>\n",
       "      <td>0</td>\n",
       "      <td>0</td>\n",
       "      <td>0</td>\n",
       "      <td>0</td>\n",
       "    </tr>\n",
       "    <tr>\n",
       "      <th>A0A068UE08</th>\n",
       "      <td>0</td>\n",
       "      <td>0</td>\n",
       "      <td>0</td>\n",
       "      <td>0</td>\n",
       "      <td>0</td>\n",
       "      <td>0</td>\n",
       "      <td>0</td>\n",
       "      <td>0</td>\n",
       "      <td>0</td>\n",
       "      <td>0</td>\n",
       "      <td>0</td>\n",
       "    </tr>\n",
       "  </tbody>\n",
       "</table>\n",
       "<p>63623 rows × 11 columns</p>\n",
       "</div>"
      ],
      "text/plain": [
       "            0  1  2  3  4  5  6  7  8  9  10\n",
       "A0A3M6V931  3  0  0  0  0  3  0  0  0  3   2\n",
       "A0A3R7Y3I5  3  0  0  0  0  3  0  0  0  3   2\n",
       "A0A0G4MCH1  2  2  0  2  0  2  0  0  2  0   2\n",
       "A0A1I8FXG0  0  0  0  0  0  0  0  0  0  0   0\n",
       "A0A1I8HTF6  0  0  0  0  0  0  0  0  0  0   0\n",
       "...        .. .. .. .. .. .. .. .. .. ..  ..\n",
       "A0A6A6UTM1  0  0  0  0  0  0  0  0  0  0   0\n",
       "A0A438JQI9  0  0  0  0  0  0  0  0  0  0   0\n",
       "A0A109LCE4  0  0  0  0  0  0  0  0  0  0   0\n",
       "A0A0K8TXL7  0  0  0  0  0  0  0  0  0  0   0\n",
       "A0A068UE08  0  0  0  0  0  0  0  0  0  0   0\n",
       "\n",
       "[63623 rows x 11 columns]"
      ]
     },
     "execution_count": 7,
     "metadata": {},
     "output_type": "execute_result"
    }
   ],
   "source": [
    "dfm"
   ]
  },
  {
   "cell_type": "code",
   "execution_count": 8,
   "metadata": {},
   "outputs": [],
   "source": [
    "arr = np.array(list(matchdict.values()))"
   ]
  },
  {
   "cell_type": "code",
   "execution_count": 9,
   "metadata": {},
   "outputs": [
    {
     "data": {
      "text/plain": [
       "numpy.ndarray"
      ]
     },
     "execution_count": 9,
     "metadata": {},
     "output_type": "execute_result"
    }
   ],
   "source": [
    "type(arr)"
   ]
  },
  {
   "cell_type": "code",
   "execution_count": 10,
   "metadata": {},
   "outputs": [
    {
     "data": {
      "image/png": "[encoded data removed]",
      "text/plain": [
       "<Figure size 432x288 with 2 Axes>"
      ]
     },
     "metadata": {
      "needs_background": "light"
     },
     "output_type": "display_data"
    }
   ],
   "source": [
    "plt.imshow(arr[500:600,:], cmap='hot')\n",
    "plt.colorbar()\n",
    "plt.show()"
   ]
  },
  {
   "cell_type": "code",
   "execution_count": 11,
   "metadata": {},
   "outputs": [
    {
     "data": {
      "text/plain": [
       "array([False, False, False, ..., False, False, False])"
      ]
     },
     "execution_count": 11,
     "metadata": {},
     "output_type": "execute_result"
    }
   ],
   "source": [
    "# True if first and second column are equal to 1\n",
    "all_hit = np.all(arr == 1, axis=1)\n",
    "all_hit"
   ]
  },
  {
   "cell_type": "code",
   "execution_count": 12,
   "metadata": {},
   "outputs": [
    {
     "data": {
      "text/plain": [
       "1058"
      ]
     },
     "execution_count": 12,
     "metadata": {},
     "output_type": "execute_result"
    }
   ],
   "source": [
    "# Total count of matches with 1 in first and second position\n",
    "sum(all_hit)"
   ]
  },
  {
   "cell_type": "code",
   "execution_count": 13,
   "metadata": {},
   "outputs": [
    {
     "data": {
      "text/plain": [
       "(array([ 1314,  1582,  1605, ..., 27497, 28212, 28241]),)"
      ]
     },
     "execution_count": 13,
     "metadata": {},
     "output_type": "execute_result"
    }
   ],
   "source": [
    "# Which rows have matches in first and second position?\n",
    "np.where(all_hit)"
   ]
  },
  {
   "cell_type": "code",
   "execution_count": 14,
   "metadata": {},
   "outputs": [
    {
     "data": {
      "text/plain": [
       "array(['A0A3B0VBX0', 'A0A7H9LQE1', 'A0A7Z8E0C9', ..., 'A0A7C9PFW2',\n",
       "       'C4Y3T9', 'G3AWF8'], dtype='<U10')"
      ]
     },
     "execution_count": 14,
     "metadata": {},
     "output_type": "execute_result"
    }
   ],
   "source": [
    "# Which sequences do these correspond to?\n",
    "matcharr = np.array(list(matchdict.keys()))\n",
    "matcharr[all_hit]"
   ]
  },
  {
   "cell_type": "code",
   "execution_count": 15,
   "metadata": {},
   "outputs": [
    {
     "name": "stdout",
     "output_type": "stream",
     "text": [
      "idx='A0A3B0VBX0' [1, 1, 1, 1, 1, 1, 1, 1, 1, 1, 1]\n",
      "idx='A0A7H9LQE1' [1, 1, 1, 1, 1, 1, 1, 1, 1, 1, 1]\n",
      "idx='A0A7Z8E0C9' [1, 1, 1, 1, 1, 1, 1, 1, 1, 1, 1]\n",
      "idx='A0A7L5V1U3' [1, 1, 1, 1, 1, 1, 1, 1, 1, 1, 1]\n",
      "idx='A0A0G9FTQ5' [1, 1, 1, 1, 1, 1, 1, 1, 1, 1, 1]\n",
      "idx='A0A0H2V4V5' [1, 1, 1, 1, 1, 1, 1, 1, 1, 1, 1]\n",
      "idx='A0A0H3EFX5' [1, 1, 1, 1, 1, 1, 1, 1, 1, 1, 1]\n",
      "idx='A0A7D6UU82' [1, 1, 1, 1, 1, 1, 1, 1, 1, 1, 1]\n",
      "idx='A0A7U9FWD7' [1, 1, 1, 1, 1, 1, 1, 1, 1, 1, 1]\n",
      "idx='S1Q791' [1, 1, 1, 1, 1, 1, 1, 1, 1, 1, 1]\n"
     ]
    }
   ],
   "source": [
    "# Check result\n",
    "for idx in matcharr[all_hit][:10]:\n",
    "    print(f\"{idx=} {matchdict[idx]}\")"
   ]
  },
  {
   "cell_type": "code",
   "execution_count": 16,
   "metadata": {},
   "outputs": [
    {
     "name": "stdout",
     "output_type": "stream",
     "text": [
      "len(matcharr[hit_in_2])=17096\n"
     ]
    }
   ],
   "source": [
    "# Which sequences have single matches to helix 2?\n",
    "hit_in_2 = arr[:, 1] == 1  # Boolean array\n",
    "matcharr[hit_in_2]  # All sequences with single match to helix 2\n",
    "print(f\"{len(matcharr[hit_in_2])=}\")"
   ]
  },
  {
   "cell_type": "code",
   "execution_count": 17,
   "metadata": {},
   "outputs": [
    {
     "data": {
      "text/plain": [
       "array(['A0A3M6V931', 'A0A3R7Y3I5', 'A0A0G4MCH1', 'A0A1Y1Y6N9',\n",
       "       'A0A0G4KE81', 'A0A6A1VES8', 'A0A1Q9DW67', 'J9I5T7', 'A0A2P5WLD7',\n",
       "       'A0A2J8A3F4', 'J9ID18', 'A0A553P3C1', 'A0A3C1CWU4', 'A0A226MQD7',\n",
       "       'E9HAT0', 'T1II21', 'G5CA94', 'A0A6F9AI83', 'A0A662YXT2', 'L5MB47',\n",
       "       'A0A183BJZ4', 'A0A183F7D7'], dtype='<U10')"
      ]
     },
     "execution_count": 17,
     "metadata": {},
     "output_type": "execute_result"
    }
   ],
   "source": [
    "# Multiple hits in any column?\n",
    "multi_hit = np.any(arr > 1, axis=1)\n",
    "matcharr[multi_hit]"
   ]
  },
  {
   "cell_type": "code",
   "execution_count": 18,
   "metadata": {},
   "outputs": [
    {
     "name": "stdout",
     "output_type": "stream",
     "text": [
      "idx='A0A3M6V931' [3, 0, 0, 0, 0, 3, 0, 0, 0, 3, 2]\n",
      "idx='A0A3R7Y3I5' [3, 0, 0, 0, 0, 3, 0, 0, 0, 3, 2]\n",
      "idx='A0A0G4MCH1' [2, 2, 0, 2, 0, 2, 0, 0, 2, 0, 2]\n",
      "idx='A0A1Y1Y6N9' [2, 2, 0, 0, 0, 2, 0, 0, 0, 2, 0]\n",
      "idx='A0A0G4KE81' [2, 2, 0, 2, 0, 2, 0, 0, 2, 0, 1]\n",
      "idx='A0A6A1VES8' [0, 0, 0, 1, 0, 2, 0, 0, 0, 0, 0]\n",
      "idx='A0A1Q9DW67' [1, 0, 0, 1, 0, 2, 0, 0, 0, 2, 0]\n",
      "idx='J9I5T7' [2, 0, 0, 0, 0, 1, 0, 0, 0, 0, 0]\n",
      "idx='A0A2P5WLD7' [0, 0, 0, 0, 0, 2, 0, 0, 0, 0, 0]\n",
      "idx='A0A2J8A3F4' [0, 2, 0, 0, 0, 2, 0, 0, 0, 0, 0]\n",
      "idx='J9ID18' [2, 0, 0, 0, 0, 1, 0, 0, 0, 0, 0]\n",
      "idx='A0A553P3C1' [2, 0, 0, 0, 2, 2, 2, 2, 2, 2, 0]\n",
      "idx='A0A3C1CWU4' [1, 0, 1, 0, 0, 2, 1, 0, 0, 1, 0]\n",
      "idx='A0A226MQD7' [1, 0, 1, 1, 2, 2, 2, 1, 1, 1, 1]\n",
      "idx='E9HAT0' [1, 0, 1, 0, 1, 1, 1, 2, 0, 2, 0]\n",
      "idx='T1II21' [0, 0, 1, 0, 2, 2, 2, 0, 0, 0, 1]\n",
      "idx='G5CA94' [2, 0, 1, 1, 1, 1, 1, 1, 1, 1, 1]\n",
      "idx='A0A6F9AI83' [1, 0, 1, 0, 0, 2, 2, 1, 1, 2, 1]\n",
      "idx='A0A662YXT2' [1, 0, 0, 0, 1, 0, 1, 2, 2, 1, 0]\n",
      "idx='L5MB47' [0, 0, 1, 1, 2, 1, 1, 1, 1, 1, 1]\n",
      "idx='A0A183BJZ4' [0, 0, 0, 0, 0, 0, 0, 0, 0, 0, 2]\n",
      "idx='A0A183F7D7' [0, 0, 0, 0, 1, 1, 2, 2, 0, 0, 0]\n"
     ]
    }
   ],
   "source": [
    "for idx in matcharr[multi_hit]:\n",
    "    print(f\"{idx=} {matchdict[idx]}\")"
   ]
  },
  {
   "cell_type": "code",
   "execution_count": 19,
   "metadata": {},
   "outputs": [
    {
     "name": "stdout",
     "output_type": "stream",
     "text": [
      "len(matcharr[hit_in_all])=13472\n"
     ]
    }
   ],
   "source": [
    "# Which sequences have single matches to all helices?\n",
    "hit_in_all = arr[0:, 10] == 1  # Boolean array\n",
    "matcharr[hit_in_all]  # All sequences with single match to helix 2\n",
    "print(f\"{len(matcharr[hit_in_all])=}\")"
   ]
  },
  {
   "cell_type": "code",
   "execution_count": 20,
   "metadata": {},
   "outputs": [],
   "source": [
    "seqs = matcharr[all_hit]"
   ]
  },
  {
   "cell_type": "code",
   "execution_count": 21,
   "metadata": {},
   "outputs": [
    {
     "data": {
      "text/plain": [
       "array(['A0A3B0VBX0', 'A0A7H9LQE1', 'A0A7Z8E0C9', ..., 'A0A7C9PFW2',\n",
       "       'C4Y3T9', 'G3AWF8'], dtype='<U10')"
      ]
     },
     "execution_count": 21,
     "metadata": {},
     "output_type": "execute_result"
    }
   ],
   "source": [
    "seqs"
   ]
  },
  {
   "cell_type": "code",
   "execution_count": 22,
   "metadata": {},
   "outputs": [
    {
     "name": "stdout",
     "output_type": "stream",
     "text": [
      "1058\n"
     ]
    }
   ],
   "source": [
    "print(len(seqs))"
   ]
  },
  {
   "cell_type": "code",
   "execution_count": 23,
   "metadata": {},
   "outputs": [],
   "source": [
    "seq = pd.DataFrame(matcharr[all_hit])"
   ]
  },
  {
   "cell_type": "code",
   "execution_count": 24,
   "metadata": {},
   "outputs": [
    {
     "data": {
      "text/html": [
       "<div>\n",
       "<style scoped>\n",
       "    .dataframe tbody tr th:only-of-type {\n",
       "        vertical-align: middle;\n",
       "    }\n",
       "\n",
       "    .dataframe tbody tr th {\n",
       "        vertical-align: top;\n",
       "    }\n",
       "\n",
       "    .dataframe thead th {\n",
       "        text-align: right;\n",
       "    }\n",
       "</style>\n",
       "<table border=\"1\" class=\"dataframe\">\n",
       "  <thead>\n",
       "    <tr style=\"text-align: right;\">\n",
       "      <th></th>\n",
       "      <th>0</th>\n",
       "    </tr>\n",
       "  </thead>\n",
       "  <tbody>\n",
       "    <tr>\n",
       "      <th>0</th>\n",
       "      <td>A0A3B0VBX0</td>\n",
       "    </tr>\n",
       "    <tr>\n",
       "      <th>1</th>\n",
       "      <td>A0A7H9LQE1</td>\n",
       "    </tr>\n",
       "    <tr>\n",
       "      <th>2</th>\n",
       "      <td>A0A7Z8E0C9</td>\n",
       "    </tr>\n",
       "    <tr>\n",
       "      <th>3</th>\n",
       "      <td>A0A7L5V1U3</td>\n",
       "    </tr>\n",
       "    <tr>\n",
       "      <th>4</th>\n",
       "      <td>A0A0G9FTQ5</td>\n",
       "    </tr>\n",
       "    <tr>\n",
       "      <th>...</th>\n",
       "      <td>...</td>\n",
       "    </tr>\n",
       "    <tr>\n",
       "      <th>1053</th>\n",
       "      <td>K8W1E2</td>\n",
       "    </tr>\n",
       "    <tr>\n",
       "      <th>1054</th>\n",
       "      <td>A0A0U2TXH6</td>\n",
       "    </tr>\n",
       "    <tr>\n",
       "      <th>1055</th>\n",
       "      <td>A0A7C9PFW2</td>\n",
       "    </tr>\n",
       "    <tr>\n",
       "      <th>1056</th>\n",
       "      <td>C4Y3T9</td>\n",
       "    </tr>\n",
       "    <tr>\n",
       "      <th>1057</th>\n",
       "      <td>G3AWF8</td>\n",
       "    </tr>\n",
       "  </tbody>\n",
       "</table>\n",
       "<p>1058 rows × 1 columns</p>\n",
       "</div>"
      ],
      "text/plain": [
       "               0\n",
       "0     A0A3B0VBX0\n",
       "1     A0A7H9LQE1\n",
       "2     A0A7Z8E0C9\n",
       "3     A0A7L5V1U3\n",
       "4     A0A0G9FTQ5\n",
       "...          ...\n",
       "1053      K8W1E2\n",
       "1054  A0A0U2TXH6\n",
       "1055  A0A7C9PFW2\n",
       "1056      C4Y3T9\n",
       "1057      G3AWF8\n",
       "\n",
       "[1058 rows x 1 columns]"
      ]
     },
     "execution_count": 24,
     "metadata": {},
     "output_type": "execute_result"
    }
   ],
   "source": [
    "seq"
   ]
  },
  {
   "cell_type": "code",
   "execution_count": 25,
   "metadata": {},
   "outputs": [],
   "source": [
    "seq = seq.set_index(0)"
   ]
  },
  {
   "cell_type": "code",
   "execution_count": 26,
   "metadata": {},
   "outputs": [],
   "source": [
    "seq.to_csv('5ref2.txt')"
   ]
  },
  {
   "cell_type": "code",
   "execution_count": 27,
   "metadata": {},
   "outputs": [
    {
     "name": "stdout",
     "output_type": "stream",
     "text": [
      "len(matcharr[hit_in_6])=51362\n"
     ]
    }
   ],
   "source": [
    "# Which sequences have single matches to helix 6?\n",
    "hit_in_6 = arr[:, 5] == 1  # Boolean array\n",
    "matcharr[hit_in_6]  # All sequences with single match to helix 2\n",
    "print(f\"{len(matcharr[hit_in_6])=}\")"
   ]
  },
  {
   "cell_type": "code",
   "execution_count": 28,
   "metadata": {},
   "outputs": [
    {
     "name": "stdout",
     "output_type": "stream",
     "text": [
      "len(matcharr[hit_in_5])=13211\n"
     ]
    }
   ],
   "source": [
    "# Which sequences have single matches to helix 5?\n",
    "hit_in_5 = arr[:, 4] == 1  # Boolean array\n",
    "matcharr[hit_in_5]  # All sequences with single match to helix 2\n",
    "print(f\"{len(matcharr[hit_in_5])=}\")"
   ]
  },
  {
   "cell_type": "code",
   "execution_count": 29,
   "metadata": {},
   "outputs": [
    {
     "name": "stdout",
     "output_type": "stream",
     "text": [
      "len(matcharr[hit_in_4])=26625\n"
     ]
    }
   ],
   "source": [
    "# Which sequences have single matches to helix 2?\n",
    "hit_in_4 = arr[:, 3] == 1  # Boolean array\n",
    "matcharr[hit_in_4]  # All sequences with single match to helix 2\n",
    "print(f\"{len(matcharr[hit_in_4])=}\")"
   ]
  },
  {
   "cell_type": "code",
   "execution_count": 30,
   "metadata": {},
   "outputs": [
    {
     "name": "stdout",
     "output_type": "stream",
     "text": [
      "len(matcharr[hit_in_1])=36091\n"
     ]
    }
   ],
   "source": [
    "# Which sequences have single matches to helix 1?\n",
    "hit_in_1 = arr[:, 0] == 1  # Boolean array\n",
    "matcharr[hit_in_1]  # All sequences with single match to helix 1\n",
    "print(f\"{len(matcharr[hit_in_1])=}\")"
   ]
  },
  {
   "cell_type": "code",
   "execution_count": 31,
   "metadata": {},
   "outputs": [
    {
     "name": "stdout",
     "output_type": "stream",
     "text": [
      "len(matcharr[hit_in_3])=17336\n"
     ]
    }
   ],
   "source": [
    "# Which sequences have single matches to helix 3?\n",
    "hit_in_3 = arr[:, 2] == 1  # Boolean array\n",
    "matcharr[hit_in_3]  # All sequences with single match to helix 3\n",
    "print(f\"{len(matcharr[hit_in_3])=}\")"
   ]
  },
  {
   "cell_type": "code",
   "execution_count": 32,
   "metadata": {},
   "outputs": [
    {
     "name": "stdout",
     "output_type": "stream",
     "text": [
      "len(matcharr[hit_in_2])=17096\n"
     ]
    }
   ],
   "source": [
    "# Which sequences have single matches to helix 2?\n",
    "hit_in_2 = arr[:, 1] == 1  # Boolean array\n",
    "matcharr[hit_in_2]  # All sequences with single match to helix 2\n",
    "print(f\"{len(matcharr[hit_in_2])=}\")"
   ]
  },
  {
   "cell_type": "code",
   "execution_count": 33,
   "metadata": {},
   "outputs": [
    {
     "name": "stdout",
     "output_type": "stream",
     "text": [
      "len(matcharr[hit_in_7])=22827\n"
     ]
    }
   ],
   "source": [
    "# Which sequences have single matches to helix 2?\n",
    "hit_in_7 = arr[:, 6] == 1  # Boolean array\n",
    "matcharr[hit_in_7]  # All sequences with single match to helix 2\n",
    "print(f\"{len(matcharr[hit_in_7])=}\")"
   ]
  },
  {
   "cell_type": "code",
   "execution_count": 34,
   "metadata": {},
   "outputs": [
    {
     "name": "stdout",
     "output_type": "stream",
     "text": [
      "len(matcharr[hit_in_8])=9302\n"
     ]
    }
   ],
   "source": [
    "# Which sequences have single matches to helix 2?\n",
    "hit_in_8 = arr[:, 7] == 1  # Boolean array\n",
    "matcharr[hit_in_8]  # All sequences with single match to helix 2\n",
    "print(f\"{len(matcharr[hit_in_8])=}\")"
   ]
  },
  {
   "cell_type": "code",
   "execution_count": 35,
   "metadata": {},
   "outputs": [
    {
     "name": "stdout",
     "output_type": "stream",
     "text": [
      "len(matcharr[hit_in_9])=14564\n"
     ]
    }
   ],
   "source": [
    "# Which sequences have single matches to helix 2?\n",
    "hit_in_9 = arr[:, 8] == 1  # Boolean array\n",
    "matcharr[hit_in_9]  # All sequences with single match to helix 2\n",
    "print(f\"{len(matcharr[hit_in_9])=}\")"
   ]
  },
  {
   "cell_type": "code",
   "execution_count": 36,
   "metadata": {},
   "outputs": [
    {
     "name": "stdout",
     "output_type": "stream",
     "text": [
      "len(matcharr[hit_in_10])=32369\n"
     ]
    }
   ],
   "source": [
    "# Which sequences have single matches to helix 2?\n",
    "hit_in_10 = arr[:, 9] == 1  # Boolean array\n",
    "matcharr[hit_in_10]  # All sequences with single match to helix 2\n",
    "print(f\"{len(matcharr[hit_in_10])=}\")"
   ]
  },
  {
   "cell_type": "code",
   "execution_count": 37,
   "metadata": {},
   "outputs": [
    {
     "name": "stdout",
     "output_type": "stream",
     "text": [
      "len(matcharr[hit_in_11])=13472\n"
     ]
    }
   ],
   "source": [
    "# Which sequences have single matches to helix 2?\n",
    "hit_in_11 = arr[:, 10] == 1  # Boolean array\n",
    "matcharr[hit_in_11]  # All sequences with single match to helix 2\n",
    "print(f\"{len(matcharr[hit_in_11])=}\")"
   ]
  },
  {
   "cell_type": "code",
   "execution_count": 43,
   "metadata": {},
   "outputs": [
    {
     "name": "stdout",
     "output_type": "stream",
     "text": [
      "Helix 0\n",
      "1    36091\n",
      "0    27523\n",
      "2        7\n",
      "3        2\n",
      "Name: 0, dtype: int64\n",
      "Helix 1\n",
      "0    46523\n",
      "1    17096\n",
      "2        4\n",
      "Name: 1, dtype: int64\n",
      "Helix 2\n",
      "0    46287\n",
      "1    17336\n",
      "Name: 2, dtype: int64\n",
      "Helix 3\n",
      "0    36996\n",
      "1    26625\n",
      "2        2\n",
      "Name: 3, dtype: int64\n",
      "Helix 4\n",
      "0    50408\n",
      "1    13211\n",
      "2        4\n",
      "Name: 4, dtype: int64\n",
      "Helix 5\n",
      "1    51362\n",
      "0    12247\n",
      "2       12\n",
      "3        2\n",
      "Name: 5, dtype: int64\n",
      "Helix 6\n",
      "0    40791\n",
      "1    22827\n",
      "2        5\n",
      "Name: 6, dtype: int64\n",
      "Helix 7\n",
      "0    54317\n",
      "1     9302\n",
      "2        4\n",
      "Name: 7, dtype: int64\n",
      "Helix 8\n",
      "0    49055\n",
      "1    14564\n",
      "2        4\n",
      "Name: 8, dtype: int64\n",
      "Helix 9\n",
      "1    32369\n",
      "0    31247\n",
      "2        5\n",
      "3        2\n",
      "Name: 9, dtype: int64\n",
      "Helix 10\n",
      "0    50147\n",
      "1    13472\n",
      "2        4\n",
      "Name: 10, dtype: int64\n"
     ]
    }
   ],
   "source": [
    "for helixnum in range(11):\n",
    "    print(f\"Helix {helixnum}\\n{dfm[helixnum].value_counts()}\")"
   ]
  },
  {
   "cell_type": "code",
   "execution_count": 48,
   "metadata": {},
   "outputs": [],
   "source": [
    "from collections import Counter, defaultdict\n",
    "\n",
    "helix_pattern_counts = Counter([\"\".join((str(_) for _ in pattern)) for pattern in matchdict.values()])"
   ]
  },
  {
   "cell_type": "code",
   "execution_count": 49,
   "metadata": {},
   "outputs": [
    {
     "data": {
      "text/plain": [
       "defaultdict(int,\n",
       "            {4: 6737,\n",
       "             6: 6413,\n",
       "             0: 4921,\n",
       "             1: 11589,\n",
       "             2: 7430,\n",
       "             8: 3703,\n",
       "             9: 1968,\n",
       "             3: 6286,\n",
       "             7: 5750,\n",
       "             5: 6665,\n",
       "             10: 1103,\n",
       "             11: 1058})"
      ]
     },
     "execution_count": 49,
     "metadata": {},
     "output_type": "execute_result"
    }
   ],
   "source": [
    "helix_counts = defaultdict(int)\n",
    "for pattern, count in helix_pattern_counts.items():\n",
    "    helix_counts[11 - pattern.count(\"0\")] += count\n",
    "helix_counts"
   ]
  },
  {
   "cell_type": "code",
   "execution_count": 71,
   "metadata": {},
   "outputs": [
    {
     "data": {
      "text/plain": [
       "4"
      ]
     },
     "execution_count": 71,
     "metadata": {},
     "output_type": "execute_result"
    }
   ],
   "source": [
    "nonzero = dfm != 0\n",
    "sum(nonzero.iloc[[0]].any())"
   ]
  },
  {
   "cell_type": "code",
   "execution_count": 85,
   "metadata": {},
   "outputs": [
    {
     "data": {
      "text/html": [
       "<div>\n",
       "<style scoped>\n",
       "    .dataframe tbody tr th:only-of-type {\n",
       "        vertical-align: middle;\n",
       "    }\n",
       "\n",
       "    .dataframe tbody tr th {\n",
       "        vertical-align: top;\n",
       "    }\n",
       "\n",
       "    .dataframe thead th {\n",
       "        text-align: right;\n",
       "    }\n",
       "</style>\n",
       "<table border=\"1\" class=\"dataframe\">\n",
       "  <thead>\n",
       "    <tr style=\"text-align: right;\">\n",
       "      <th></th>\n",
       "      <th>0</th>\n",
       "      <th>1</th>\n",
       "      <th>2</th>\n",
       "      <th>3</th>\n",
       "      <th>4</th>\n",
       "      <th>5</th>\n",
       "      <th>6</th>\n",
       "      <th>7</th>\n",
       "      <th>8</th>\n",
       "      <th>9</th>\n",
       "      <th>10</th>\n",
       "    </tr>\n",
       "  </thead>\n",
       "  <tbody>\n",
       "    <tr>\n",
       "      <th>A0A3M6V931</th>\n",
       "      <td>3</td>\n",
       "      <td>0</td>\n",
       "      <td>0</td>\n",
       "      <td>0</td>\n",
       "      <td>0</td>\n",
       "      <td>3</td>\n",
       "      <td>0</td>\n",
       "      <td>0</td>\n",
       "      <td>0</td>\n",
       "      <td>3</td>\n",
       "      <td>2</td>\n",
       "    </tr>\n",
       "    <tr>\n",
       "      <th>A0A3R7Y3I5</th>\n",
       "      <td>3</td>\n",
       "      <td>0</td>\n",
       "      <td>0</td>\n",
       "      <td>0</td>\n",
       "      <td>0</td>\n",
       "      <td>3</td>\n",
       "      <td>0</td>\n",
       "      <td>0</td>\n",
       "      <td>0</td>\n",
       "      <td>3</td>\n",
       "      <td>2</td>\n",
       "    </tr>\n",
       "    <tr>\n",
       "      <th>A0A0G4MCH1</th>\n",
       "      <td>2</td>\n",
       "      <td>2</td>\n",
       "      <td>0</td>\n",
       "      <td>2</td>\n",
       "      <td>0</td>\n",
       "      <td>2</td>\n",
       "      <td>0</td>\n",
       "      <td>0</td>\n",
       "      <td>2</td>\n",
       "      <td>0</td>\n",
       "      <td>2</td>\n",
       "    </tr>\n",
       "    <tr>\n",
       "      <th>A0A1I8FXG0</th>\n",
       "      <td>0</td>\n",
       "      <td>0</td>\n",
       "      <td>0</td>\n",
       "      <td>0</td>\n",
       "      <td>0</td>\n",
       "      <td>0</td>\n",
       "      <td>0</td>\n",
       "      <td>0</td>\n",
       "      <td>0</td>\n",
       "      <td>0</td>\n",
       "      <td>0</td>\n",
       "    </tr>\n",
       "    <tr>\n",
       "      <th>A0A1I8HTF6</th>\n",
       "      <td>0</td>\n",
       "      <td>0</td>\n",
       "      <td>0</td>\n",
       "      <td>0</td>\n",
       "      <td>0</td>\n",
       "      <td>0</td>\n",
       "      <td>0</td>\n",
       "      <td>0</td>\n",
       "      <td>0</td>\n",
       "      <td>0</td>\n",
       "      <td>0</td>\n",
       "    </tr>\n",
       "  </tbody>\n",
       "</table>\n",
       "</div>"
      ],
      "text/plain": [
       "            0  1  2  3  4  5  6  7  8  9  10\n",
       "A0A3M6V931  3  0  0  0  0  3  0  0  0  3   2\n",
       "A0A3R7Y3I5  3  0  0  0  0  3  0  0  0  3   2\n",
       "A0A0G4MCH1  2  2  0  2  0  2  0  0  2  0   2\n",
       "A0A1I8FXG0  0  0  0  0  0  0  0  0  0  0   0\n",
       "A0A1I8HTF6  0  0  0  0  0  0  0  0  0  0   0"
      ]
     },
     "execution_count": 85,
     "metadata": {},
     "output_type": "execute_result"
    }
   ],
   "source": [
    "dfm[:5]"
   ]
  },
  {
   "cell_type": "code",
   "execution_count": 87,
   "metadata": {},
   "outputs": [
    {
     "data": {
      "text/plain": [
       "A0A3M6V931    4\n",
       "A0A3R7Y3I5    4\n",
       "A0A0G4MCH1    6\n",
       "A0A1I8FXG0    0\n",
       "A0A1I8HTF6    0\n",
       "             ..\n",
       "A0A6A6UTM1    0\n",
       "A0A438JQI9    0\n",
       "A0A109LCE4    0\n",
       "A0A0K8TXL7    0\n",
       "A0A068UE08    0\n",
       "Length: 63623, dtype: int64"
      ]
     },
     "execution_count": 87,
     "metadata": {},
     "output_type": "execute_result"
    }
   ],
   "source": [
    "helix_counts_by_acc = dfm[(dfm != 0)].count(axis=1)\n",
    "helix_counts_by_acc"
   ]
  },
  {
   "cell_type": "code",
   "execution_count": 97,
   "metadata": {},
   "outputs": [
    {
     "data": {
      "text/html": [
       "<div>\n",
       "<style scoped>\n",
       "    .dataframe tbody tr th:only-of-type {\n",
       "        vertical-align: middle;\n",
       "    }\n",
       "\n",
       "    .dataframe tbody tr th {\n",
       "        vertical-align: top;\n",
       "    }\n",
       "\n",
       "    .dataframe thead th {\n",
       "        text-align: right;\n",
       "    }\n",
       "</style>\n",
       "<table border=\"1\" class=\"dataframe\">\n",
       "  <thead>\n",
       "    <tr style=\"text-align: right;\">\n",
       "      <th></th>\n",
       "      <th>0</th>\n",
       "      <th>1</th>\n",
       "      <th>2</th>\n",
       "      <th>3</th>\n",
       "      <th>4</th>\n",
       "      <th>5</th>\n",
       "      <th>6</th>\n",
       "      <th>7</th>\n",
       "      <th>8</th>\n",
       "      <th>9</th>\n",
       "      <th>10</th>\n",
       "    </tr>\n",
       "  </thead>\n",
       "  <tbody>\n",
       "    <tr>\n",
       "      <th>A0A359B5C6</th>\n",
       "      <td>1</td>\n",
       "      <td>1</td>\n",
       "      <td>1</td>\n",
       "      <td>1</td>\n",
       "      <td>0</td>\n",
       "      <td>1</td>\n",
       "      <td>1</td>\n",
       "      <td>1</td>\n",
       "      <td>1</td>\n",
       "      <td>1</td>\n",
       "      <td>1</td>\n",
       "    </tr>\n",
       "    <tr>\n",
       "      <th>A0A0F2PDC1</th>\n",
       "      <td>1</td>\n",
       "      <td>1</td>\n",
       "      <td>1</td>\n",
       "      <td>1</td>\n",
       "      <td>0</td>\n",
       "      <td>1</td>\n",
       "      <td>1</td>\n",
       "      <td>1</td>\n",
       "      <td>1</td>\n",
       "      <td>1</td>\n",
       "      <td>1</td>\n",
       "    </tr>\n",
       "    <tr>\n",
       "      <th>F2KR79</th>\n",
       "      <td>1</td>\n",
       "      <td>1</td>\n",
       "      <td>1</td>\n",
       "      <td>1</td>\n",
       "      <td>0</td>\n",
       "      <td>1</td>\n",
       "      <td>1</td>\n",
       "      <td>1</td>\n",
       "      <td>1</td>\n",
       "      <td>1</td>\n",
       "      <td>1</td>\n",
       "    </tr>\n",
       "    <tr>\n",
       "      <th>A0A075WBP9</th>\n",
       "      <td>1</td>\n",
       "      <td>1</td>\n",
       "      <td>1</td>\n",
       "      <td>1</td>\n",
       "      <td>0</td>\n",
       "      <td>1</td>\n",
       "      <td>1</td>\n",
       "      <td>1</td>\n",
       "      <td>1</td>\n",
       "      <td>1</td>\n",
       "      <td>1</td>\n",
       "    </tr>\n",
       "    <tr>\n",
       "      <th>O29285</th>\n",
       "      <td>1</td>\n",
       "      <td>1</td>\n",
       "      <td>1</td>\n",
       "      <td>1</td>\n",
       "      <td>0</td>\n",
       "      <td>1</td>\n",
       "      <td>1</td>\n",
       "      <td>1</td>\n",
       "      <td>1</td>\n",
       "      <td>1</td>\n",
       "      <td>1</td>\n",
       "    </tr>\n",
       "    <tr>\n",
       "      <th>...</th>\n",
       "      <td>...</td>\n",
       "      <td>...</td>\n",
       "      <td>...</td>\n",
       "      <td>...</td>\n",
       "      <td>...</td>\n",
       "      <td>...</td>\n",
       "      <td>...</td>\n",
       "      <td>...</td>\n",
       "      <td>...</td>\n",
       "      <td>...</td>\n",
       "      <td>...</td>\n",
       "    </tr>\n",
       "    <tr>\n",
       "      <th>A0A5N3VJK1</th>\n",
       "      <td>1</td>\n",
       "      <td>0</td>\n",
       "      <td>1</td>\n",
       "      <td>1</td>\n",
       "      <td>1</td>\n",
       "      <td>1</td>\n",
       "      <td>1</td>\n",
       "      <td>1</td>\n",
       "      <td>1</td>\n",
       "      <td>1</td>\n",
       "      <td>1</td>\n",
       "    </tr>\n",
       "    <tr>\n",
       "      <th>A0A674K6G9</th>\n",
       "      <td>1</td>\n",
       "      <td>0</td>\n",
       "      <td>1</td>\n",
       "      <td>1</td>\n",
       "      <td>1</td>\n",
       "      <td>1</td>\n",
       "      <td>1</td>\n",
       "      <td>1</td>\n",
       "      <td>1</td>\n",
       "      <td>1</td>\n",
       "      <td>1</td>\n",
       "    </tr>\n",
       "    <tr>\n",
       "      <th>A0A5C7V756</th>\n",
       "      <td>1</td>\n",
       "      <td>0</td>\n",
       "      <td>1</td>\n",
       "      <td>1</td>\n",
       "      <td>1</td>\n",
       "      <td>1</td>\n",
       "      <td>1</td>\n",
       "      <td>1</td>\n",
       "      <td>1</td>\n",
       "      <td>1</td>\n",
       "      <td>1</td>\n",
       "    </tr>\n",
       "    <tr>\n",
       "      <th>Q5YL87</th>\n",
       "      <td>1</td>\n",
       "      <td>0</td>\n",
       "      <td>1</td>\n",
       "      <td>1</td>\n",
       "      <td>1</td>\n",
       "      <td>1</td>\n",
       "      <td>1</td>\n",
       "      <td>1</td>\n",
       "      <td>1</td>\n",
       "      <td>1</td>\n",
       "      <td>1</td>\n",
       "    </tr>\n",
       "    <tr>\n",
       "      <th>Q82X47</th>\n",
       "      <td>1</td>\n",
       "      <td>0</td>\n",
       "      <td>1</td>\n",
       "      <td>1</td>\n",
       "      <td>1</td>\n",
       "      <td>1</td>\n",
       "      <td>1</td>\n",
       "      <td>1</td>\n",
       "      <td>1</td>\n",
       "      <td>1</td>\n",
       "      <td>1</td>\n",
       "    </tr>\n",
       "  </tbody>\n",
       "</table>\n",
       "<p>1103 rows × 11 columns</p>\n",
       "</div>"
      ],
      "text/plain": [
       "            0  1  2  3  4  5  6  7  8  9  10\n",
       "A0A359B5C6  1  1  1  1  0  1  1  1  1  1   1\n",
       "A0A0F2PDC1  1  1  1  1  0  1  1  1  1  1   1\n",
       "F2KR79      1  1  1  1  0  1  1  1  1  1   1\n",
       "A0A075WBP9  1  1  1  1  0  1  1  1  1  1   1\n",
       "O29285      1  1  1  1  0  1  1  1  1  1   1\n",
       "...        .. .. .. .. .. .. .. .. .. ..  ..\n",
       "A0A5N3VJK1  1  0  1  1  1  1  1  1  1  1   1\n",
       "A0A674K6G9  1  0  1  1  1  1  1  1  1  1   1\n",
       "A0A5C7V756  1  0  1  1  1  1  1  1  1  1   1\n",
       "Q5YL87      1  0  1  1  1  1  1  1  1  1   1\n",
       "Q82X47      1  0  1  1  1  1  1  1  1  1   1\n",
       "\n",
       "[1103 rows x 11 columns]"
      ]
     },
     "execution_count": 97,
     "metadata": {},
     "output_type": "execute_result"
    }
   ],
   "source": [
    "ten_helices = dfm.loc[list(helix_counts_by_acc[helix_counts_by_acc == 10].index),:]\n",
    "ten_helices"
   ]
  },
  {
   "cell_type": "code",
   "execution_count": 98,
   "metadata": {},
   "outputs": [],
   "source": [
    "ten_helices.to_html(\"ten_helices.html\")"
   ]
  },
  {
   "cell_type": "code",
   "execution_count": null,
   "metadata": {},
   "outputs": [],
   "source": []
  }
 ],
 "metadata": {
  "kernelspec": {
   "display_name": "Python 3",
   "language": "python",
   "name": "python3"
  },
  "language_info": {
   "codemirror_mode": {
    "name": "ipython",
    "version": 3
   },
   "file_extension": ".py",
   "mimetype": "text/x-python",
   "name": "python",
   "nbconvert_exporter": "python",
   "pygments_lexer": "ipython3",
   "version": "3.8.3"
  }
 },
 "nbformat": 4,
 "nbformat_minor": 5
}
