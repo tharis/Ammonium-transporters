{
 "cells": [
  {
   "cell_type": "code",
   "execution_count": 1,
   "metadata": {},
   "outputs": [],
   "source": [
    "import matplotlib.pyplot as plt\n",
    "import numpy as np\n",
    "import pandas as pd"
   ]
  },
  {
   "cell_type": "markdown",
   "metadata": {},
   "source": [
    "First create a dictionary with all known IDs"
   ]
  },
  {
   "cell_type": "code",
   "execution_count": 2,
   "metadata": {},
   "outputs": [],
   "source": [
    "matchdict = {}\n",
    "with open(\"IDsnofrag.txt\") as ifh:\n",
    "    for idx in (_.strip() for _ in ifh.readlines()):\n",
    "        matchdict[idx] = [0] * 11"
   ]
  },
  {
   "cell_type": "code",
   "execution_count": 3,
   "metadata": {},
   "outputs": [
    {
     "data": {
      "text/plain": [
       "57473"
      ]
     },
     "execution_count": 3,
     "metadata": {},
     "output_type": "execute_result"
    }
   ],
   "source": [
    "len(matchdict)"
   ]
  },
  {
   "cell_type": "markdown",
   "metadata": {},
   "source": [
    "Load in each series of matches in turn (skipping any line that isn't in the dictionary)"
   ]
  },
  {
   "cell_type": "code",
   "execution_count": 4,
   "metadata": {},
   "outputs": [
    {
     "name": "stdout",
     "output_type": "stream",
     "text": [
      "helixidx=1 failcount=0\n",
      "helixidx=2 failcount=0\n",
      "helixidx=3 failcount=0\n",
      "helixidx=4 failcount=0\n",
      "helixidx=5 failcount=0\n",
      "helixidx=6 failcount=0\n",
      "helixidx=7 failcount=0\n",
      "helixidx=8 failcount=0\n",
      "helixidx=9 failcount=0\n",
      "helixidx=10 failcount=0\n",
      "helixidx=11 failcount=0\n"
     ]
    }
   ],
   "source": [
    "for helix in range(11):\n",
    "    failcount = 0\n",
    "    helixidx = helix+1\n",
    "    with open(f\"IDs{helixidx}.txt\") as ifh:\n",
    "        for idx in (_.strip() for _ in ifh.readlines()):\n",
    "            try:\n",
    "                matchdict[idx][helix] += 1\n",
    "            except KeyError:\n",
    "                # Catching count of failed additions to dictionary\n",
    "                failcount +=1\n",
    "        print(f\"{helixidx=} {failcount=}\")"
   ]
  },
  {
   "cell_type": "code",
   "execution_count": 5,
   "metadata": {},
   "outputs": [
    {
     "data": {
      "text/plain": [
       "[('split3', [1, 1, 1, 1, 1, 1, 1, 1, 1, 1, 1]),\n",
       " ('A0A3M6V931', [3, 0, 0, 0, 0, 3, 0, 0, 0, 3, 2]),\n",
       " ('A0A3R7Y3I5', [3, 0, 0, 0, 0, 3, 0, 0, 0, 3, 2]),\n",
       " ('A0A0G4MCH1', [2, 2, 0, 2, 0, 2, 0, 0, 2, 0, 2]),\n",
       " ('A0A1I8FXG0', [0, 0, 0, 0, 0, 0, 0, 0, 0, 0, 0]),\n",
       " ('A0A1I8HTF6', [0, 0, 0, 0, 0, 0, 0, 0, 0, 0, 0]),\n",
       " ('A0A3M6UJ14', [0, 0, 0, 0, 0, 0, 0, 0, 0, 0, 1]),\n",
       " ('A0A336MBT3', [0, 0, 0, 0, 0, 0, 0, 0, 0, 1, 0]),\n",
       " ('A0A1Y1Y6N9', [2, 2, 0, 0, 0, 2, 0, 0, 0, 2, 0]),\n",
       " ('A0A1I8GPP1', [0, 0, 0, 0, 0, 0, 0, 0, 0, 0, 0])]"
      ]
     },
     "execution_count": 5,
     "metadata": {},
     "output_type": "execute_result"
    }
   ],
   "source": [
    "list(matchdict.items())[:10]"
   ]
  },
  {
   "cell_type": "code",
   "execution_count": 6,
   "metadata": {},
   "outputs": [],
   "source": [
    "dfm = pd.DataFrame.from_dict(matchdict, orient=\"index\")"
   ]
  },
  {
   "cell_type": "code",
   "execution_count": 7,
   "metadata": {},
   "outputs": [
    {
     "data": {
      "text/html": [
       "<div>\n",
       "<style scoped>\n",
       "    .dataframe tbody tr th:only-of-type {\n",
       "        vertical-align: middle;\n",
       "    }\n",
       "\n",
       "    .dataframe tbody tr th {\n",
       "        vertical-align: top;\n",
       "    }\n",
       "\n",
       "    .dataframe thead th {\n",
       "        text-align: right;\n",
       "    }\n",
       "</style>\n",
       "<table border=\"1\" class=\"dataframe\">\n",
       "  <thead>\n",
       "    <tr style=\"text-align: right;\">\n",
       "      <th></th>\n",
       "      <th>0</th>\n",
       "      <th>1</th>\n",
       "      <th>2</th>\n",
       "      <th>3</th>\n",
       "      <th>4</th>\n",
       "      <th>5</th>\n",
       "      <th>6</th>\n",
       "      <th>7</th>\n",
       "      <th>8</th>\n",
       "      <th>9</th>\n",
       "      <th>10</th>\n",
       "    </tr>\n",
       "  </thead>\n",
       "  <tbody>\n",
       "    <tr>\n",
       "      <th>split3</th>\n",
       "      <td>1</td>\n",
       "      <td>1</td>\n",
       "      <td>1</td>\n",
       "      <td>1</td>\n",
       "      <td>1</td>\n",
       "      <td>1</td>\n",
       "      <td>1</td>\n",
       "      <td>1</td>\n",
       "      <td>1</td>\n",
       "      <td>1</td>\n",
       "      <td>1</td>\n",
       "    </tr>\n",
       "    <tr>\n",
       "      <th>A0A3M6V931</th>\n",
       "      <td>3</td>\n",
       "      <td>0</td>\n",
       "      <td>0</td>\n",
       "      <td>0</td>\n",
       "      <td>0</td>\n",
       "      <td>3</td>\n",
       "      <td>0</td>\n",
       "      <td>0</td>\n",
       "      <td>0</td>\n",
       "      <td>3</td>\n",
       "      <td>2</td>\n",
       "    </tr>\n",
       "    <tr>\n",
       "      <th>A0A3R7Y3I5</th>\n",
       "      <td>3</td>\n",
       "      <td>0</td>\n",
       "      <td>0</td>\n",
       "      <td>0</td>\n",
       "      <td>0</td>\n",
       "      <td>3</td>\n",
       "      <td>0</td>\n",
       "      <td>0</td>\n",
       "      <td>0</td>\n",
       "      <td>3</td>\n",
       "      <td>2</td>\n",
       "    </tr>\n",
       "    <tr>\n",
       "      <th>A0A0G4MCH1</th>\n",
       "      <td>2</td>\n",
       "      <td>2</td>\n",
       "      <td>0</td>\n",
       "      <td>2</td>\n",
       "      <td>0</td>\n",
       "      <td>2</td>\n",
       "      <td>0</td>\n",
       "      <td>0</td>\n",
       "      <td>2</td>\n",
       "      <td>0</td>\n",
       "      <td>2</td>\n",
       "    </tr>\n",
       "    <tr>\n",
       "      <th>A0A1I8FXG0</th>\n",
       "      <td>0</td>\n",
       "      <td>0</td>\n",
       "      <td>0</td>\n",
       "      <td>0</td>\n",
       "      <td>0</td>\n",
       "      <td>0</td>\n",
       "      <td>0</td>\n",
       "      <td>0</td>\n",
       "      <td>0</td>\n",
       "      <td>0</td>\n",
       "      <td>0</td>\n",
       "    </tr>\n",
       "    <tr>\n",
       "      <th>...</th>\n",
       "      <td>...</td>\n",
       "      <td>...</td>\n",
       "      <td>...</td>\n",
       "      <td>...</td>\n",
       "      <td>...</td>\n",
       "      <td>...</td>\n",
       "      <td>...</td>\n",
       "      <td>...</td>\n",
       "      <td>...</td>\n",
       "      <td>...</td>\n",
       "      <td>...</td>\n",
       "    </tr>\n",
       "    <tr>\n",
       "      <th>W9QQC1</th>\n",
       "      <td>0</td>\n",
       "      <td>0</td>\n",
       "      <td>0</td>\n",
       "      <td>0</td>\n",
       "      <td>0</td>\n",
       "      <td>0</td>\n",
       "      <td>0</td>\n",
       "      <td>0</td>\n",
       "      <td>0</td>\n",
       "      <td>0</td>\n",
       "      <td>0</td>\n",
       "    </tr>\n",
       "    <tr>\n",
       "      <th>A0A6A6UTM1</th>\n",
       "      <td>0</td>\n",
       "      <td>0</td>\n",
       "      <td>0</td>\n",
       "      <td>0</td>\n",
       "      <td>0</td>\n",
       "      <td>0</td>\n",
       "      <td>0</td>\n",
       "      <td>0</td>\n",
       "      <td>0</td>\n",
       "      <td>0</td>\n",
       "      <td>0</td>\n",
       "    </tr>\n",
       "    <tr>\n",
       "      <th>A0A438JQI9</th>\n",
       "      <td>0</td>\n",
       "      <td>0</td>\n",
       "      <td>0</td>\n",
       "      <td>0</td>\n",
       "      <td>0</td>\n",
       "      <td>0</td>\n",
       "      <td>0</td>\n",
       "      <td>0</td>\n",
       "      <td>0</td>\n",
       "      <td>0</td>\n",
       "      <td>0</td>\n",
       "    </tr>\n",
       "    <tr>\n",
       "      <th>A0A109LCE4</th>\n",
       "      <td>0</td>\n",
       "      <td>0</td>\n",
       "      <td>0</td>\n",
       "      <td>0</td>\n",
       "      <td>0</td>\n",
       "      <td>0</td>\n",
       "      <td>0</td>\n",
       "      <td>0</td>\n",
       "      <td>0</td>\n",
       "      <td>0</td>\n",
       "      <td>0</td>\n",
       "    </tr>\n",
       "    <tr>\n",
       "      <th>A0A068UE08</th>\n",
       "      <td>0</td>\n",
       "      <td>0</td>\n",
       "      <td>0</td>\n",
       "      <td>0</td>\n",
       "      <td>0</td>\n",
       "      <td>0</td>\n",
       "      <td>0</td>\n",
       "      <td>0</td>\n",
       "      <td>0</td>\n",
       "      <td>0</td>\n",
       "      <td>0</td>\n",
       "    </tr>\n",
       "  </tbody>\n",
       "</table>\n",
       "<p>57473 rows × 11 columns</p>\n",
       "</div>"
      ],
      "text/plain": [
       "            0  1  2  3  4  5  6  7  8  9  10\n",
       "split3      1  1  1  1  1  1  1  1  1  1   1\n",
       "A0A3M6V931  3  0  0  0  0  3  0  0  0  3   2\n",
       "A0A3R7Y3I5  3  0  0  0  0  3  0  0  0  3   2\n",
       "A0A0G4MCH1  2  2  0  2  0  2  0  0  2  0   2\n",
       "A0A1I8FXG0  0  0  0  0  0  0  0  0  0  0   0\n",
       "...        .. .. .. .. .. .. .. .. .. ..  ..\n",
       "W9QQC1      0  0  0  0  0  0  0  0  0  0   0\n",
       "A0A6A6UTM1  0  0  0  0  0  0  0  0  0  0   0\n",
       "A0A438JQI9  0  0  0  0  0  0  0  0  0  0   0\n",
       "A0A109LCE4  0  0  0  0  0  0  0  0  0  0   0\n",
       "A0A068UE08  0  0  0  0  0  0  0  0  0  0   0\n",
       "\n",
       "[57473 rows x 11 columns]"
      ]
     },
     "execution_count": 7,
     "metadata": {},
     "output_type": "execute_result"
    }
   ],
   "source": [
    "dfm"
   ]
  },
  {
   "cell_type": "code",
   "execution_count": 8,
   "metadata": {},
   "outputs": [],
   "source": [
    "arr = np.array(list(matchdict.values()))"
   ]
  },
  {
   "cell_type": "code",
   "execution_count": 9,
   "metadata": {},
   "outputs": [
    {
     "data": {
      "text/plain": [
       "numpy.ndarray"
      ]
     },
     "execution_count": 9,
     "metadata": {},
     "output_type": "execute_result"
    }
   ],
   "source": [
    "type(arr)"
   ]
  },
  {
   "cell_type": "code",
   "execution_count": 10,
   "metadata": {},
   "outputs": [
    {
     "data": {
      "image/png": "[encoded data removed]",
      "text/plain": [
       "<Figure size 432x288 with 2 Axes>"
      ]
     },
     "metadata": {
      "needs_background": "light"
     },
     "output_type": "display_data"
    }
   ],
   "source": [
    "plt.imshow(arr[500:600,:], cmap='hot')\n",
    "plt.colorbar()\n",
    "plt.show()"
   ]
  },
  {
   "cell_type": "code",
   "execution_count": 11,
   "metadata": {},
   "outputs": [
    {
     "data": {
      "text/plain": [
       "array([ True, False, False, ..., False, False, False])"
      ]
     },
     "execution_count": 11,
     "metadata": {},
     "output_type": "execute_result"
    }
   ],
   "source": [
    "# True if first and second column are equal to 1\n",
    "all_hit = np.all(arr == 1, axis=1)\n",
    "all_hit"
   ]
  },
  {
   "cell_type": "code",
   "execution_count": 12,
   "metadata": {},
   "outputs": [
    {
     "data": {
      "text/plain": [
       "935"
      ]
     },
     "execution_count": 12,
     "metadata": {},
     "output_type": "execute_result"
    }
   ],
   "source": [
    "# Total count of matches with 1 in first and second position\n",
    "sum(all_hit)"
   ]
  },
  {
   "cell_type": "code",
   "execution_count": 13,
   "metadata": {},
   "outputs": [
    {
     "data": {
      "text/plain": [
       "(array([    0,  1300,  1561,  1584,  1737,  1820,  1821,  1822,  1823,\n",
       "         1824,  1825,  1826,  1830,  1831,  1832,  1833,  1834,  1835,\n",
       "         1838,  1843,  1844,  1864,  1865,  1866,  1867,  1868,  1876,\n",
       "         1913,  1923,  1924,  1927,  1935,  1945,  1955,  1965,  1967,\n",
       "         1968,  1969,  1970,  1971,  1972,  1973,  1976,  1977,  1978,\n",
       "         1980,  1981,  1982,  1996,  1997,  1999,  2000,  2001,  2004,\n",
       "         2007,  2008,  2014,  2015,  2016,  2017,  2018,  2019,  2020,\n",
       "         2021,  2022,  2023,  2024,  2025,  2026,  2027,  2028,  2029,\n",
       "         2030,  2031,  2032,  2033,  2034,  2035,  2036,  2037,  2038,\n",
       "         2039,  2040,  2041,  2042,  2043,  2044,  2045,  2046,  2047,\n",
       "         2048,  2049,  2050,  2051,  2052,  2053,  2054,  2055,  2056,\n",
       "         2057,  2058,  2059,  2060,  2061,  2062,  2063,  2064,  2065,\n",
       "         2066,  2067,  2068,  2069,  2070,  2071,  2072,  2073,  2074,\n",
       "         2075,  2076,  2077,  2078,  2079,  2080,  2081,  2082,  2083,\n",
       "         2084,  2085,  2086,  2087,  2088,  2089,  2090,  2091,  2092,\n",
       "         2094,  2095,  2097,  2098,  2099,  2117,  2123,  2124,  2125,\n",
       "         2126,  2127,  2128,  2131,  2134,  2135,  2149,  2150,  2155,\n",
       "         2156,  2157,  2163,  2165,  2166,  2167,  2168,  2169,  2177,\n",
       "         2197,  2199,  2206,  2214,  2215,  2216,  2218,  2227,  2228,\n",
       "         2229,  2230,  2231,  2232,  2233,  2239,  2261,  2324,  2325,\n",
       "         2326,  2328,  2336,  2347,  2348,  2349,  2350,  2352,  2354,\n",
       "         2442,  2457,  2458,  2459,  2498,  2499,  2535,  2571,  2658,\n",
       "         2693,  2694,  2712,  2723,  2730,  2785,  2786,  2787,  2789,\n",
       "         2837,  2838,  2839,  2840,  2841,  2842,  2843,  2844,  2845,\n",
       "         2846,  2847,  2848,  2849,  2850,  2907,  2938,  2941,  2942,\n",
       "         2944,  2971,  2972,  2973,  2974,  3001,  3018,  3019,  3028,\n",
       "         3029,  3030,  3070,  3082,  3083,  3111,  3113,  3114,  3115,\n",
       "         3116,  3117,  3118,  3119,  3120,  3121,  3122,  3123,  3124,\n",
       "         3125,  3126,  3127,  3128,  3129,  3130,  3131,  3132,  3133,\n",
       "         3134,  3135,  3136,  3137,  3138,  3139,  3140,  3141,  3142,\n",
       "         3166,  3171,  3192,  3193,  3194,  3195,  3209,  3210,  3216,\n",
       "         3217,  3218,  3219,  3220,  3221,  3224,  3225,  3226,  3227,\n",
       "         3229,  3230,  3231,  3232,  3235,  3236,  3237,  3238,  3239,\n",
       "         3240,  3241,  3242,  3246,  3254,  3257,  3267,  3268,  3269,\n",
       "         3270,  3271,  3272,  3273,  3274,  3275,  3276,  3281,  3282,\n",
       "         3283,  3284,  3285,  3286,  3287,  3288,  3289,  3290,  3291,\n",
       "         3292,  3293,  3294,  3298,  3301,  3302,  3321,  3327,  3353,\n",
       "         3354,  3355,  3356,  3360,  3361,  3362,  3363,  3364,  3365,\n",
       "         3366,  3368,  3373,  3376,  3382,  3383,  3384,  3385,  3386,\n",
       "         3388,  3389,  3390,  3391,  3392,  3393,  3394,  3395,  3396,\n",
       "         3397,  3398,  3399,  3400,  3401,  3402,  3403,  3404,  3405,\n",
       "         3406,  3407,  3408,  3409,  3410,  3411,  3412,  3413,  3414,\n",
       "         3415,  3416,  3417,  3418,  3419,  3420,  3421,  3423,  3424,\n",
       "         3433,  3437,  3439,  3440,  3442,  3446,  3448,  3449,  3450,\n",
       "         3451,  3452,  3453,  3454,  3455,  3459,  3461,  3462,  3463,\n",
       "         3469,  3470,  3471,  3472,  3473,  3474,  3475,  3476,  3477,\n",
       "         3478,  3479,  3480,  3481,  3482,  3483,  3484,  3485,  3486,\n",
       "         3487,  3488,  3489,  3490,  3491,  3492,  3493,  3494,  3495,\n",
       "         3496,  3497,  3498,  3499,  3500,  3501,  3502,  3503,  3504,\n",
       "         3505,  3506,  3507,  3508,  3509,  3510,  3511,  3512,  3513,\n",
       "         3514,  3515,  3516,  3517,  3518,  3519,  3520,  3521,  3522,\n",
       "         3523,  3524,  3525,  3526,  3527,  3528,  3529,  3530,  3531,\n",
       "         3532,  3533,  3534,  3535,  3536,  3537,  3538,  3539,  3540,\n",
       "         3541,  3542,  3543,  3544,  3545,  3546,  3547,  3548,  3549,\n",
       "         3550,  3551,  3552,  3553,  3554,  3555,  3556,  3557,  3558,\n",
       "         3559,  3560,  3561,  3562,  3563,  3564,  3565,  3566,  3567,\n",
       "         3568,  3569,  3570,  3571,  3572,  3573,  3574,  3575,  3576,\n",
       "         3577,  3578,  3579,  3580,  3581,  3582,  3583,  3584,  3585,\n",
       "         3586,  3587,  3588,  3589,  3590,  3591,  3592,  3595,  3598,\n",
       "         3599,  3600,  3603,  3604,  3605,  3606,  3607,  3608,  3609,\n",
       "         3610,  3611,  3612,  3613,  3614,  3615,  3616,  3617,  3619,\n",
       "         3620,  3621,  3622,  3623,  3624,  3625,  3626,  3627,  3628,\n",
       "         3629,  3630,  3632,  3640,  3658,  3659,  3665,  3668,  3669,\n",
       "         3670,  3672,  3675,  3678,  3679,  3680,  3681,  3682,  3688,\n",
       "         3700,  3703,  3704,  3708,  3714,  3715,  3719,  3721,  3725,\n",
       "         3726,  3735,  3736,  3739,  3741,  3757,  3758,  3759,  3764,\n",
       "         3773,  3775,  3776,  3779,  3780,  3781,  3782,  3783,  3787,\n",
       "         3809,  3819,  3820,  3821,  3822,  3823,  3824,  3825,  3826,\n",
       "         3827,  3843,  3851,  3852,  3853,  3862,  3863,  3864,  3866,\n",
       "         3870,  3871,  3873,  3874,  3875,  3876,  3877,  3878,  3886,\n",
       "         3887,  3892,  3893,  3924,  3929,  3930,  3931,  3938,  3939,\n",
       "         3944,  3945,  3957,  3966,  3997,  4021,  4022,  4023,  4034,\n",
       "         4049,  4050,  4054,  4059,  4060,  4074,  4075,  4091,  4093,\n",
       "         4110,  4111,  4112,  4113,  4114,  4115,  4116,  4138,  4142,\n",
       "         4147,  4158,  4159,  4160,  4161,  4162,  4165,  4192,  4204,\n",
       "         4208,  4222,  4224,  4225,  4226,  4233,  4234,  4235,  4236,\n",
       "         4271,  4272,  4336,  4348,  4353,  4354,  4355,  4356,  4357,\n",
       "         4358,  4359,  4360,  4361,  4362,  4363,  4366,  4367,  4372,\n",
       "         4374,  4381,  4388,  4391,  4417,  4450,  4478,  4496,  4497,\n",
       "         4498,  4499,  4520,  4521,  4602,  4625,  4651,  4676,  4702,\n",
       "         4709,  4710,  4744,  4749,  4757,  4758,  4759,  4760,  4764,\n",
       "         4812,  4818,  4832,  4860,  4872,  4873,  4874,  4918,  4964,\n",
       "         4969,  4970,  4971,  4972,  4973,  4974,  4975,  5053,  5058,\n",
       "         5059,  5096,  5144,  5189,  5190,  5193,  5194,  5195,  5196,\n",
       "         5200,  5201,  5202,  5224,  5231,  5237,  5276,  5388,  5389,\n",
       "         5440,  5458,  5499,  5500,  5529,  5601,  5602,  5604,  5679,\n",
       "         5689,  5795,  5813,  5830,  5835,  5838,  5932,  5946,  6037,\n",
       "         6057,  6075,  6200,  6235,  6251,  6252,  6253,  6255,  6283,\n",
       "         6309,  6310,  6319,  6340,  6354,  6364,  6411,  6413,  6521,\n",
       "         6542,  6543,  6588,  6648,  6666,  6689,  6693,  6697,  6749,\n",
       "         6751,  6752,  6758,  6759,  6760,  6776,  6815,  6901,  6932,\n",
       "         6951,  6999,  7081,  7102,  7207,  7215,  7216,  7248,  7297,\n",
       "         7298,  7299,  7306,  7359,  7382,  7483,  7523,  7524,  7564,\n",
       "         7613,  7614,  7736,  7737,  7780,  7939,  7940,  7941,  7967,\n",
       "         7981,  7982,  7985,  7991,  7992,  8072,  8135,  8222,  8223,\n",
       "         8224,  8243,  8295,  8337,  8415,  8416,  8433,  8435,  8436,\n",
       "         8468,  8528,  8529,  8590,  8591,  8618,  8626,  8631,  8635,\n",
       "         8636,  8702,  8703,  8774,  8775,  8821,  8950,  9051,  9052,\n",
       "         9104,  9402,  9487,  9534,  9535,  9646,  9747,  9969, 10003,\n",
       "        10163, 10254, 10372, 10594, 10897, 11005, 11577, 11578, 11729,\n",
       "        12202, 12235, 12496, 12589, 12594, 12600, 12631, 12785, 12786,\n",
       "        12826, 15041, 16603, 16718, 17082, 17114, 17759, 17792, 18117,\n",
       "        18406, 18984, 19288, 19545, 19623, 19649, 19650, 19939, 20360,\n",
       "        20577, 22057, 22180, 26751, 27244, 27605, 27951, 27980]),)"
      ]
     },
     "execution_count": 13,
     "metadata": {},
     "output_type": "execute_result"
    }
   ],
   "source": [
    "# Which rows have matches in first and second position?\n",
    "np.where(all_hit)"
   ]
  },
  {
   "cell_type": "code",
   "execution_count": 14,
   "metadata": {},
   "outputs": [
    {
     "data": {
      "text/plain": [
       "array(['split3', 'A0A3B0VBX0', 'A0A7H9LQE1', 'A0A7Z8E0C9', 'A0A7L5V1U3',\n",
       "       'A0A0G9FTQ5', 'A0A0H2V4V5', 'A0A0H3EFX5', 'A0A7D6UU82',\n",
       "       'A0A7U9FWD7', 'S1Q791', 'V0USB2', 'A0A0E2L910', 'A0A0H2YWR5',\n",
       "       'A0A1X3K8A5', 'A0A2G8ZSQ8', 'B7MDB0', 'Q1RF84', 'A0A454A1W4',\n",
       "       'A0A029IB89', 'A0A376DD79', 'A0A6D0IPB6', 'A0A4V1GRD5',\n",
       "       'A0A4Z0I205', 'A0A5F1GAR9', 'A0A659KB79', 'A0A403LZ88',\n",
       "       'A0A2X7MWY2', 'A0A376HV85', 'B7UJS4', 'A0A774N2U7', 'A0A5B9AVA9',\n",
       "       'A0A7L7E9T8', 'A0A7D7DEA0', 'A0A6D0H9H5', 'A0A061YLH2',\n",
       "       'A0A192CI04', 'F4SUS0', 'W8ZN64', 'A0A0J2B7N6', 'A0A7U9GAS8',\n",
       "       'L3QER2', 'A0A0K4NK65', 'A0A1X3JT93', 'B1EKN5', 'A0A765T1T4',\n",
       "       'A0A7U8WWI8', 'W0ARE9', 'A0A3S6ZAQ7', 'F0JMA7', 'A0A0K9TBR6',\n",
       "       'A0A2Y0X1Z3', 'F4UZ46', 'A0A777XP81', 'A0A2X7JEZ7', 'L4JGS8',\n",
       "       'A0A377EDZ7', 'A0A080JA88', 'A0A0E0Y4F1', 'A0A0E1LU20',\n",
       "       'A0A0E1SWF0', 'A0A0H3MHY7', 'A0A0H3PRK9', 'A0A0I3I1M3',\n",
       "       'A0A169QHR2', 'A0A1E2VPT8', 'A0A1S9JIM8', 'A0A1X3ICE5',\n",
       "       'A0A1X3J661', 'A0A1X3JM59', 'A0A1X3KPZ4', 'A0A1X3L7P4',\n",
       "       'A0A1X3LND4', 'A0A1Z3UTV8', 'A0A222QGK0', 'A0A2S7SN39',\n",
       "       'A0A380B739', 'A0A3D8XFL0', 'A0A3R0JIQ1', 'A0A4P7TSU2',\n",
       "       'A0A5F1EA44', 'A0A6I1JNB1', 'A0A6I4K9M5', 'A0A7D4R794',\n",
       "       'A0A7L7X414', 'A0A7M3S343', 'A0A7U2WBP9', 'A0A7U8W7U2',\n",
       "       'A0A7U9A095', 'A0A7U9BFW9', 'A0A7U9J184', 'A0A7W4L1U1', 'B1LJK9',\n",
       "       'B6HZM3', 'B7L689', 'B7LMC8', 'B7N905', 'C3TLL2', 'D3QKD7',\n",
       "       'D7XK75', 'D7Y315', 'D8A688', 'D8E0Z9', 'E0J0Y7', 'E1IPD6',\n",
       "       'E1IZY3', 'E3PFR7', 'E6BHT5', 'E7T472', 'E9TLC8', 'E9XPJ9',\n",
       "       'F4NMK9', 'F4SJE9', 'F4TAW7', 'F4VAN9', 'F5NRG4', 'I2SYU9',\n",
       "       'I2WRG0', 'J7RQM7', 'K4WSJ3', 'L3BRW4', 'M9HD98', 'P69680',\n",
       "       'P69681', 'Q3Z4U7', 'S1FIE8', 'U9XNG3', 'U9XNU7', 'U9Z5N5',\n",
       "       'V0AH69', 'V0SFG3', 'V0X7V8', 'V0YPB1', 'A0A085P590', 'D6I7G5',\n",
       "       'A0A5R8TTG8', 'A0A5E8FHS4', 'A0A3U5I4R3', 'F3WEN8', 'A7ZIK9',\n",
       "       'A0A5B9APF5', 'A0A0H0L5P7', 'A0A1X3LTZ9', 'A0A6H2GHI7',\n",
       "       'A0A7U9B577', 'D3GV81', 'I4SYI9', 'A0A0K3VW47', 'A0A2S8JW40',\n",
       "       'A0A2X6R5J9', 'A0A370V060', 'A0A7U9DI03', 'A0A400V067',\n",
       "       'A0A0D8WDX7', 'D6J7F0', 'B7MQG7', 'A0A5F1DQM8', 'A0A5F1HMX5',\n",
       "       'A0A5F1HQT1', 'A0A659KHW7', 'A0A659KP48', 'A0A0K3ZFG5',\n",
       "       'A0A2H4TPQ0', 'A0A6C9FSB1', 'A0A377C2G0', 'A0A140NCU4',\n",
       "       'A0A1V3W5E6', 'S1ITE1', 'A0A5F1EF29', 'A0A2S8DBI3', 'A0A2S8DMV9',\n",
       "       'A0A3T2UQK6', 'A0A6N3QL60', 'B2U4Q7', 'I6EU82', 'Q325E9',\n",
       "       'A0A5F1T4T7', 'A0A7Z8GIZ0', 'A0A6B0EE40', 'A0A6C8U6V2',\n",
       "       'A0A6I4LQD6', 'A0A376FN79', 'I6D653', 'A0A0H2UXH1', 'A0A200LBC6',\n",
       "       'D2A8K9', 'Q0T7D2', 'A0A0A0FA59', 'A0A5D8MZE9', 'A0A0A0H0Z6',\n",
       "       'A0A3J7BZ95', 'A0A4P8C854', 'A0A7U9LR43', 'A0A6N9MNT8',\n",
       "       'A0A7W4PT99', 'A0A7I6SEJ6', 'A0A4C7AR52', 'A0A659L246',\n",
       "       'A0A2U9KM81', 'I2UQG2', 'A0A154CGJ2', 'A0A7G6KC78', 'A0A0F3UAY3',\n",
       "       'A0A2T8T9A2', 'A0A3U9ZMY8', 'A0A5I5S555', 'A0A2S4S0E2',\n",
       "       'A0A232SVI7', 'A0A3T3G850', 'A0A3V4SN19', 'A0A3V9WXG6',\n",
       "       'A0A3W0FDV9', 'A0A3Z8CC64', 'A0A5I0BLU8', 'A0A5I1LJH2',\n",
       "       'A0A5W0T9W6', 'A0A5W5I1I2', 'A0A5W5K2D6', 'A0A658IHQ9',\n",
       "       'A0A735AQC8', 'A0A752ICG4', 'A0A3R8ZDQ3', 'A0A5Z4QGG3',\n",
       "       'A0A2S4QAD3', 'A0A4P6WML2', 'A0A156D7X1', 'A0A379SFA5',\n",
       "       'A0A5T8WLN4', 'A0A741SJU7', 'A9MM07', 'A0A1B7I1P1', 'A0A3V7IKH8',\n",
       "       'A0A6W0NV84', 'A0A658NZZ1', 'A0A7I6XFL4', 'A0A7X8S2P5',\n",
       "       'A0A5U8T7F7', 'A0A223JNJ0', 'A0A6L5E839', 'A0A6N2RGB7',\n",
       "       'A0A381G3N6', 'A0A3S7D895', 'A0A7L6UF93', 'A0A7L6YMP6',\n",
       "       'A0A7L6YYW6', 'A0A657FKX5', 'A0A3S4IUR6', 'A0A064E7T1',\n",
       "       'A0A0J1Q2T2', 'A0A1R0G0A4', 'A0A2I8S3A6', 'A0A2I8THS3',\n",
       "       'A0A2N4V4M4', 'A0A5B0TH32', 'A0A6H3AW57', 'A0A7D7EN77',\n",
       "       'A0A7L6BVW0', 'A0A7L6DVZ7', 'A0A7L6EA44', 'A0A7L6HQJ6',\n",
       "       'A0A7L6IJ37', 'A0A7L6JRI8', 'A0A7L6PFH6', 'A0A7L6U5J8',\n",
       "       'A0A7W2ZDS7', 'A0A7W3DRC9', 'A0A7W3GG99', 'A0A7W3HPP7',\n",
       "       'A0A7X9M7Z5', 'R8X445', 'A0A241QET5', 'A0A3N5E2P4', 'A0A5I5X728',\n",
       "       'A0A760R0H3', 'A0A7L6EPG4', 'A0A731GFV4', 'A0A5U0S679',\n",
       "       'A0A5Y2KHU9', 'A0A4U6H3R7', 'A0A0D7LNS3', 'A0A0J1N4L4',\n",
       "       'A0A212I781', 'A0A2L0T886', 'A0A2T1LN43', 'A0A5I0U8C0',\n",
       "       'A0A620FSH5', 'A0A636J376', 'A0A659Q133', 'A0A636KDJ0',\n",
       "       'A0A603BCS0', 'A0A735HGT3', 'A0A745WR23', 'A0A2A6DAP4',\n",
       "       'A0A3V2EPA1', 'A0A3V3M1D2', 'A0A3V8Z0X2', 'A0A5C5HB78',\n",
       "       'A0A5I7TD00', 'A0A5V9ADJ2', 'A0A5Y8G2J6', 'A0A4P5QW76', 'D4BD05',\n",
       "       'A0A740LUA7', 'A0A2T9I5M3', 'A0A3K1KUN5', 'A0A3R0S7M5',\n",
       "       'A0A5Y4VB79', 'A0A701B731', 'A0A727ZD00', 'B5EXK4', 'A0A729QGI9',\n",
       "       'A0A0F6TSZ2', 'A0A753FTL6', 'A0A2T6X104', 'A0A3T3ET14',\n",
       "       'A0A401AQH7', 'A0A418ZDQ4', 'A0A509CGC7', 'A0A5Z3GNH0',\n",
       "       'A0A6C8LST1', 'A0A729FP90', 'A0A736NMS1', 'A0A737EKL9',\n",
       "       'A0A3U3CAL2', 'A0A486X4W2', 'A0A5V2QZC2', 'A0A708E3I8',\n",
       "       'A0A5V6PTF8', 'A0A3Y4MKH8', 'A0A5H7D7L0', 'A0A0J1LKI9',\n",
       "       'A0A3X2HEX7', 'A0A3U9DSH0', 'A0A403SWK7', 'A0A735VP71',\n",
       "       'A0A7G5KR44', 'A0A3Q9LJP2', 'A0A3G3E3Q9', 'A0A5I0EUM0',\n",
       "       'A0A5I4F7R6', 'A0A5Z3CWK4', 'A0A6C8H7P5', 'A0A752E6V3', 'G5LK15',\n",
       "       'A0A629EQP8', 'A0A736H9P3', 'A0A3F3IQU1', 'A0A3U8NMH6',\n",
       "       'A0A447JM56', 'A0A5I3CXI9', 'A0A738ARF4', 'A0A2K9PBY5',\n",
       "       'A0A2U4DHW9', 'A0A0N1QV34', 'A0A1R2WNN3', 'A0A2T8XGA6',\n",
       "       'A0A2T9Q8F9', 'A0A3T3IJJ6', 'A0A3V6MHU3', 'A0A3V9NJ26',\n",
       "       'A0A3V9PSJ6', 'A0A3Z6QEJ4', 'A0A3Z7DQB2', 'A0A419ID40',\n",
       "       'A0A509BZN6', 'A0A5H7GL07', 'A0A5H7LD11', 'A0A5I9JJ01',\n",
       "       'A0A5J1IPI4', 'A0A5W0X0T7', 'A0A5X3QZS4', 'A0A602Z6N0',\n",
       "       'A0A605YM60', 'A0A620WCZ1', 'A0A631QMW7', 'A0A634N0F4',\n",
       "       'A0A637QM35', 'A0A656IBS1', 'A0A6C7A264', 'A0A6C7HMI9',\n",
       "       'A0A6Y6DC15', 'A0A719E5B5', 'A0A730TVL1', 'B5R5Y8', 'M7SGT4',\n",
       "       'A0A5X3NWY8', 'A0A624B4S8', 'A0A710E468', 'A0A627NIF1',\n",
       "       'A0A2I5HJJ6', 'A0A505CZ97', 'A0A5T4LGI1', 'A0A760RAW1',\n",
       "       'A0A379XT74', 'A0A701Z9M0', 'A0A6C8GSM4', 'G5N8V9', 'G5QVT5',\n",
       "       'G5RRL4', 'G5S7L4', 'A0A5Z7B0I3', 'A0A738X675', 'A0A6X9IYL2',\n",
       "       'A0A5H5M1Q0', 'A0A5W7RTX4', 'A0A3V7KRQ3', 'A0A3V8VLJ9',\n",
       "       'A0A5X7JZF5', 'A0A608MSZ5', 'A0A639TRB6', 'A0A756KGI3',\n",
       "       'A0A5W8C9A2', 'A0A4R8F1T3', 'A0A5V2WYN9', 'A0A2C9P480',\n",
       "       'A0A3U7XK95', 'A0A5U7H136', 'A0A737DKU6', 'A0A5I8HSH6',\n",
       "       'A0A0F6AXU3', 'A0A0F7J642', 'A0A0H3BUZ0', 'A0A0H3NDP4',\n",
       "       'A0A0R9MP23', 'A0A0T9Y3B5', 'A0A1S0ZHL0', 'A0A265B907',\n",
       "       'A0A2R4DCS1', 'A0A2T8MNJ2', 'A0A2T8QQE5', 'A0A315GV26',\n",
       "       'A0A3A3IXW6', 'A0A3Q9MQX4', 'A0A3R0D955', 'A0A3R1ABY9',\n",
       "       'A0A3T2WBX1', 'A0A3T9YBW0', 'A0A3U0BVS4', 'A0A3U8PAA0',\n",
       "       'A0A3V3CHP0', 'A0A3V4BE95', 'A0A3V4QGF0', 'A0A3V5UKG6',\n",
       "       'A0A3V5VRV7', 'A0A3V5ZAB3', 'A0A3V6WDT6', 'A0A3V7LQ16',\n",
       "       'A0A3V7PDU4', 'A0A3Y5ZCJ6', 'A0A3Z1EIA5', 'A0A3Z6NUP7',\n",
       "       'A0A403SNE0', 'A0A426WS41', 'A0A494ITR4', 'A0A4D6P754',\n",
       "       'A0A4P9SZQ8', 'A0A4Q8S5U6', 'A0A4U8J8F5', 'A0A4Z8Y3V9',\n",
       "       'A0A5H7FVQ6', 'A0A5H7JYR7', 'A0A5H7RX17', 'A0A5H8H6G8',\n",
       "       'A0A5H9VJH1', 'A0A5H9YRV5', 'A0A5I0F7J5', 'A0A5I0MZQ2',\n",
       "       'A0A5I0P4T6', 'A0A5I1AR83', 'A0A5I1FF64', 'A0A5I1KUU3',\n",
       "       'A0A5I2FIK4', 'A0A5I2P4K2', 'A0A5I2X4H5', 'A0A5I2YKE1',\n",
       "       'A0A5I2Z8H2', 'A0A5I3I3J2', 'A0A5I4DH18', 'A0A5I4U243',\n",
       "       'A0A5I5DRC3', 'A0A5I6HW78', 'A0A5I6S281', 'A0A5I9B5Z3',\n",
       "       'A0A5J0NVY5', 'A0A5J0PH75', 'A0A5T5I7J6', 'A0A5V8XY93',\n",
       "       'A0A5V9GIJ5', 'A0A5W1VEF1', 'A0A5W2A338', 'A0A5W2RT58',\n",
       "       'A0A5W8M9L0', 'A0A5X6EFN2', 'A0A5Y0WRT2', 'A0A606PWS2',\n",
       "       'A0A609W1U8', 'A0A636NYQ7', 'A0A636WRB8', 'A0A657HXB5',\n",
       "       'A0A663DEF2', 'A0A6C6ZHT0', 'A0A6C7I7V4', 'A0A6C8EU95',\n",
       "       'A0A6M3P0P4', 'A0A6V9XPS3', 'A0A6W0LYX7', 'A0A701S853',\n",
       "       'A0A714PR86', 'A0A720GHW1', 'A0A724J3X3', 'A0A729WEU2',\n",
       "       'A0A735ISP6', 'A0A737JV15', 'A0A737R9B1', 'E8X850', 'G5PZ41',\n",
       "       'Q7CR19', 'Q8XFU8', 'V7IN41', 'A0A3U3D3X3', 'A0A5J0HUI0',\n",
       "       'A0A5T5TBA2', 'A0A5U9Q940', 'A0A617JQW4', 'A0A3U2X7G0',\n",
       "       'A0A4Q8PDH1', 'A0A722T371', 'A0A5I0CRU5', 'A0A5T4NIJ1',\n",
       "       'A0A738AEZ9', 'A0A5I4ZZ42', 'A0A5I6QYU4', 'A0A5U2D7L0',\n",
       "       'A0A5Y3ATZ2', 'A0A5I8UGT1', 'A0A630MWG6', 'Q57S99', 'A0A3T7WY01',\n",
       "       'A0A3V0H109', 'A0A3V7IHA6', 'A0A402W590', 'A0A5H6NV16',\n",
       "       'A0A5H7IQ42', 'A0A5I4QET7', 'A0A5I8VF25', 'A0A5J0XFK8',\n",
       "       'A0A5J1UKE4', 'A0A708CNT2', 'A0A3T2YPG6', 'A0A3V2RKX0',\n",
       "       'A0A3V3U611', 'A0A5H6T2Y1', 'A0A5I0M8R2', 'A0A5I3U6K6',\n",
       "       'A0A5I4RGT8', 'A0A5T9MW19', 'A0A752VQ03', 'A0A5C2M2T3',\n",
       "       'A0A5Y7A2D6', 'C0Q7Y8', 'A0A1B7HUF3', 'A0A3A5JTW9', 'A0A737C8A3',\n",
       "       'A0A756PH80', 'A0A6I2J3U7', 'A0A5V0PTN3', 'A0A5W7FBP3',\n",
       "       'A0A6X7X924', 'A0A3U2RQF9', 'A0A5U6SH03', 'A0A3Y4IJ03',\n",
       "       'A0A4Y6ME87', 'A0A5I4KF26', 'A0A5I6QFK6', 'A0A5U2MW70',\n",
       "       'A0A5W2LR05', 'A0A085GI50', 'A0A3Z7NLT2', 'A0A5I5STG8',\n",
       "       'A0A639ZKI3', 'A0A5U2P7U7', 'A0A602MHF4', 'A0A5Y7WJS1',\n",
       "       'A0A744FRV3', 'A0A5V5RAD1', 'A0A5Z8GDG9', 'A0A737BLA7',\n",
       "       'A0A752ZZE9', 'A0A715ME98', 'A0A5U4KK92', 'A0A379QMT0',\n",
       "       'A0A5Y3UW84', 'A0A6C7CE76', 'A0A739CZ49', 'A0A3R0UJ71',\n",
       "       'A0A5Z7ST90', 'A0A630XH33', 'A0A3J8LFL7', 'A0A5Y3Q0V6',\n",
       "       'A0A737F201', 'A0A740VFC8', 'A0A7T8FFF6', 'A0A3Q9L4U8',\n",
       "       'A0A757JYQ5', 'A0A3F3J141', 'A0A3R0Q550', 'A0A3U6Z2H0',\n",
       "       'A0A5U3EWV7', 'A0A701UJR1', 'A0A7U5YE83', 'A0A7Z0Y5J0',\n",
       "       'A0A636FAG5', 'A0A754T2H3', 'A0A3G2ID16', 'A0A0V9JYI1',\n",
       "       'A0A7L6XP11', 'A0A7L6YFM4', 'A0A344SE54', 'A0A6Y5LBX4',\n",
       "       'A0A718AF86', 'A0A763HN03', 'A0A5Y2QH19', 'A0A701YWX0',\n",
       "       'A0A1U7FLN9', 'A0A3V9RXW7', 'A0A5I4XLS4', 'A0A5W8WYN3',\n",
       "       'A0A621VVF4', 'A0A736E874', 'A0A336QJD0', 'A0A5X9FBY4',\n",
       "       'A0A6Y4HYA5', 'A0A611NET0', 'A0A742N9J7', 'A0A6N6KC59',\n",
       "       'A0A7W3GKM0', 'A0A626SC51', 'A0A621TDA5', 'A0A5U7LPX4',\n",
       "       'A0A3Y8WKX3', 'A0A750XGG0', 'A0A379Q9J9', 'A0A379TEW3',\n",
       "       'A0A634F7D8', 'A0A3V8D8L7', 'A0A5T2KKL6', 'A0A735MZH3',\n",
       "       'A0A5J0RG87', 'A0A730ZTZ3', 'A0A6D2GD20', 'A0A6C7DCY4',\n",
       "       'A0A4U6LHI2', 'A0A7W3C2L0', 'A0A7I7DNW6', 'A0A731YKV7',\n",
       "       'A0A1B7IVB9', 'V1H4U6', 'A0A0H2WR82', 'A0A3Z1HWW2', 'A0A5H9JWW8',\n",
       "       'A0A5Z0WD72', 'A0A6C7I0R1', 'A0A719U3T7', 'A0A748HTZ0',\n",
       "       'A0A381CAY8', 'A0A622TX48', 'A0A717YPX1', 'A0A379SE70',\n",
       "       'A0A5Y1WIA7', 'A0A5Y2S4J2', 'A0A3Z3FTC7', 'A0A729JS39',\n",
       "       'A0A702G8V3', 'A0A4P7J3E2', 'A0A5X5CVD8', 'A0A379U3R1',\n",
       "       'A0A3I8FV74', 'A0A3V4IIS8', 'A0A731R475', 'A0A4R6E4B1',\n",
       "       'A0A376I2R4', 'A0A3E2KWM5', 'A0A4U6MK98', 'A0A7D7A830',\n",
       "       'A0A482PLH3', 'D2TLS8', 'A0A6C8YFK3', 'A0A735PZZ4', 'A0A1J6Z5R4',\n",
       "       'A0A344SSM8', 'A0A3V2XSS0', 'A0A5Y6M6S1', 'A0A701URF6',\n",
       "       'A0A727THW6', 'A0A729FWA7', 'A0A730K273', 'A0A735LBU7',\n",
       "       'A0A737NPH3', 'A0A752IX81', 'A0A5Y7AGK0', 'A0A6C8G489',\n",
       "       'A0A2X3M4W8', 'A0A5I0RCG7', 'A0A6Y2KI62', 'A0A402UTA0',\n",
       "       'A0A702B6X2', 'A0A702KVE2', 'A0A3J0PFN3', 'A0A756LG89',\n",
       "       'A0A5U2TR64', 'A0A737I6R4', 'A0A753B746', 'A0A751CYP9',\n",
       "       'A0A3S5YM00', 'A0A5W3DWV2', 'A0A710Q0T2', 'A0A5V4Z0B5',\n",
       "       'A0A765BH94', 'A0A078LKD1', 'A0A5Q2TDQ1', 'A0A7U4I744',\n",
       "       'A0A729K9T5', 'A0A6B0T747', 'A0A5Y3MUS3', 'A0A603KWM2',\n",
       "       'A0A732GPS2', 'A0A734HKA3', 'A0A738CQ26', 'A8AK00', 'A0A402XJH8',\n",
       "       'A0A0U1HR47', 'A0A2S5KH46', 'A0A1X1DC56', 'A0A701VZ98',\n",
       "       'A0A737MGJ8', 'A0A737VWF8', 'A0A0T9M693', 'A0A2T2Y0D5',\n",
       "       'A0A7I6QD21', 'A0A7I6QUA9', 'A0A7I6RTR1', 'A0A7I6T8E7',\n",
       "       'A0A7I6TM38', 'A0A7I6U3H8', 'A0A7I6VS00', 'A0A209A1K9',\n",
       "       'A0A5V7DNA2', 'A0A756CY92', 'A0A737GZR9', 'A0A2J9SIW1',\n",
       "       'A0A7H4ZH93', 'A0A7U0AWW3', 'A0A0H3NLY7', 'A0A0H5KAU5',\n",
       "       'A0A0T9UG31', 'A0A3S4GL84', 'A0A7U7FKE7', 'A0A7U7FRL2', 'A1JNJ8',\n",
       "       'A0A7T9Y5C8', 'A0A7U7ING8', 'A0A085U5C1', 'A0A0T9L8K6',\n",
       "       'A0A2A7TDF7', 'A0A0T9NJY2', 'A0A2X3EIF4', 'A0A209B0L9',\n",
       "       'A0A481QED2', 'A0A7U4GDT4', 'A0A5Y3X9J5', 'A0A0T9TL46',\n",
       "       'A0A0B6FUU5', 'A0A0T9N9D2', 'A0A209AI19', 'A0A0T9UJ26',\n",
       "       'A0A7U7IXQ2', 'A0A3S6EVI2', 'A0A0T9UML4', 'A0A6M1Q6K9',\n",
       "       'A0A2R4NWI0', 'A0A0T9UHX8', 'A0A0H5LUX1', 'A0A6L6HFA3',\n",
       "       'A0A0T9NZ96', 'A0A2G4U2X5', 'A0A4P8YHG7', 'A0A0T9PRJ6',\n",
       "       'A0A7D4P4Z0', 'A0A0T9SXB9', 'A0A0U1I2X7', 'A0A2G4UHN8',\n",
       "       'A0A2J9E6B1', 'A0A0J8YVT0', 'A0A2G8BS95', 'A0A518XAL9',\n",
       "       'A0A4Z0KCH8', 'A0A1H9IHF3', 'A0A3N4PVR8', 'A0A3N1VXY4',\n",
       "       'A0A0E8XFJ9', 'A0A7Y8YDI8', 'A0A286BQQ6', 'A0A3D0EI79', 'E3DJG7',\n",
       "       'H3R999', 'A0A2P5IR76', 'A0A380Q5P3', 'A0A2S9IIF1', 'A0A1X1CTZ7',\n",
       "       'A0A0H2YF12', 'A0A0H3B6F1', 'A0A0U1QX01', 'A0A3G5KID1',\n",
       "       'A0A5P8YJU4', 'Q66DR9', 'A0A1V9DIA7', 'A0A6I6IFH6', 'A0A7U4HVB1',\n",
       "       'D2T4I5', 'A0A095UL81', 'A0A0A3ZS89', 'A0A1Y0L5G8', 'A0A014MFU3',\n",
       "       'A0A3N6SPH7', 'A0A2V3Q0N2', 'A0A6G6JU01', 'A0A7X3M4I8',\n",
       "       'A0A6I2JKB6', 'A0A7W5JLD6', 'J3HNJ8', 'A0A0A3ZAU5', 'A0A7Y7SP15',\n",
       "       'A0A0M2K5G4', 'A0A0E1NPE4', 'A0A0B1RBG9', 'A0A0U3K150',\n",
       "       'A0A2M9WAM2', 'A0A7V8SNG0', 'J3DFW3', 'A0A2V5BSW6', 'A0A7Z2BQK9',\n",
       "       'A0A345CNB1', 'A0A2V3SMZ7', 'A0A7U4TA26', 'E1SGC4', 'A0A2U1DJP0',\n",
       "       'A0A0H3KTD3', 'A0A7Z0I6C4', 'D4GLQ6', 'A0A419MC95', 'A0A7X9I0Z9',\n",
       "       'A0A506P800', 'A0A2V2BH85', 'A0A501SIR7', 'A0A5Q2FQQ5', 'E0LTU3',\n",
       "       'A0A5M7LX27', 'A0A349IGI6', 'A0A2I0FT29', 'A0A081S219', 'T0QHC9',\n",
       "       'A0A6B3J990', 'A0A419N785', 'U7R3F9', 'A0A1I5AGN5', 'A0A0Q4NQU6',\n",
       "       'A0A4S3LQB7', 'A0A4R2Z2K6', 'A0A4R7GKA0', 'A0A506Q381',\n",
       "       'A0A0P0F118', 'A7XNI4', 'A0A060DHT0', 'G8AF40', 'A0A0H3FCG8',\n",
       "       'H8NYJ4', 'A0A1X1BYC5', 'A0A653WIP3', 'A0A084A5G1', 'A0A2L1URJ0',\n",
       "       'A0A2N0W8L7', 'A0A6M2B596', 'H2IZ00', 'A0A2N5EQM3', 'A0A2V1HJV7',\n",
       "       'A0A2N5E9V9', 'A0A5F0S2C8', 'A0A6I4V6F0', 'A0A198FKX3',\n",
       "       'A0A495RIE0', 'A0A379WET1', 'A0A2N5EAZ5', 'A0A7C9GP82', 'O67997',\n",
       "       'A0A447R865', 'A0A4R4K1P9', 'W3VDI9', 'A0A1E3Z0L8', 'A0A1Q3S3G1',\n",
       "       'A0A495FJE8', 'A0A1E3ZVB5', 'K0HVX3', 'A0A7X5QMH7', 'Q6BT62',\n",
       "       'A0A4D4JRE4', 'A0A389MDV3', 'A0A502GPV4', 'A0A085G774',\n",
       "       'A0A2N0MZ27', 'A0A7G5CMJ4', 'A0A2H0ZGU0', 'A0A1A0HD25', 'G8YE72',\n",
       "       'A0A536SPC3', 'A0A1F4DD73', 'A0A510P8F4', 'A0A2S9Q4A4',\n",
       "       'A0A2V1B058', 'A0A202FYD4', 'A0A7W9L2K5', 'A0A2T6FGF0',\n",
       "       'A0A2P7YMM7', 'A0A4P6XX03', 'A0A1L0BJA2', 'A0A1L0BMN9',\n",
       "       'A0A6M4GZN9', 'A0A5J6PK18', 'A0A7K0KD91', 'A0A0U2TXH6',\n",
       "       'A0A3D2N8C5', 'A0A536UQS2', 'A0A7C9PFW2', 'A0A6M4HAE7', 'C4Y3T9',\n",
       "       'G3AWF8'], dtype='<U10')"
      ]
     },
     "execution_count": 14,
     "metadata": {},
     "output_type": "execute_result"
    }
   ],
   "source": [
    "# Which sequences do these correspond to?\n",
    "matcharr = np.array(list(matchdict.keys()))\n",
    "matcharr[all_hit]"
   ]
  },
  {
   "cell_type": "code",
   "execution_count": 15,
   "metadata": {},
   "outputs": [
    {
     "name": "stdout",
     "output_type": "stream",
     "text": [
      "idx='split3' [1, 1, 1, 1, 1, 1, 1, 1, 1, 1, 1]\n",
      "idx='A0A3B0VBX0' [1, 1, 1, 1, 1, 1, 1, 1, 1, 1, 1]\n",
      "idx='A0A7H9LQE1' [1, 1, 1, 1, 1, 1, 1, 1, 1, 1, 1]\n",
      "idx='A0A7Z8E0C9' [1, 1, 1, 1, 1, 1, 1, 1, 1, 1, 1]\n",
      "idx='A0A7L5V1U3' [1, 1, 1, 1, 1, 1, 1, 1, 1, 1, 1]\n",
      "idx='A0A0G9FTQ5' [1, 1, 1, 1, 1, 1, 1, 1, 1, 1, 1]\n",
      "idx='A0A0H2V4V5' [1, 1, 1, 1, 1, 1, 1, 1, 1, 1, 1]\n",
      "idx='A0A0H3EFX5' [1, 1, 1, 1, 1, 1, 1, 1, 1, 1, 1]\n",
      "idx='A0A7D6UU82' [1, 1, 1, 1, 1, 1, 1, 1, 1, 1, 1]\n",
      "idx='A0A7U9FWD7' [1, 1, 1, 1, 1, 1, 1, 1, 1, 1, 1]\n"
     ]
    }
   ],
   "source": [
    "# Check result\n",
    "for idx in matcharr[all_hit][:10]:\n",
    "    print(f\"{idx=} {matchdict[idx]}\")"
   ]
  },
  {
   "cell_type": "code",
   "execution_count": 16,
   "metadata": {},
   "outputs": [
    {
     "name": "stdout",
     "output_type": "stream",
     "text": [
      "len(matcharr[hit_in_2])=16556\n"
     ]
    }
   ],
   "source": [
    "# Which sequences have single matches to helix 2?\n",
    "hit_in_2 = arr[:, 1] == 1  # Boolean array\n",
    "matcharr[hit_in_2]  # All sequences with single match to helix 2\n",
    "print(f\"{len(matcharr[hit_in_2])=}\")"
   ]
  },
  {
   "cell_type": "code",
   "execution_count": 17,
   "metadata": {},
   "outputs": [
    {
     "data": {
      "text/plain": [
       "array(['A0A3M6V931', 'A0A3R7Y3I5', 'A0A0G4MCH1', 'A0A1Y1Y6N9',\n",
       "       'A0A553N736', 'A0A0G4KE81', 'A0A6A1VES8', 'A0A1Q9DW67', 'J9I5T7',\n",
       "       'A0A2P5WLD7', 'A0A2J8A3F4', 'J9ID18', 'A0A553P3C1', 'A0A3C1CWU4',\n",
       "       'A0A226MQD7', 'E9HAT0', 'T1II21', 'G5CA94', 'A0A662YXT2', 'L5MB47',\n",
       "       'A0A183BJZ4', 'A0A183F7D7'], dtype='<U10')"
      ]
     },
     "execution_count": 17,
     "metadata": {},
     "output_type": "execute_result"
    }
   ],
   "source": [
    "# Multiple hits in any column?\n",
    "multi_hit = np.any(arr > 1, axis=1)\n",
    "matcharr[multi_hit]"
   ]
  },
  {
   "cell_type": "code",
   "execution_count": 18,
   "metadata": {},
   "outputs": [
    {
     "name": "stdout",
     "output_type": "stream",
     "text": [
      "idx='A0A3M6V931' [3, 0, 0, 0, 0, 3, 0, 0, 0, 3, 2]\n",
      "idx='A0A3R7Y3I5' [3, 0, 0, 0, 0, 3, 0, 0, 0, 3, 2]\n",
      "idx='A0A0G4MCH1' [2, 2, 0, 2, 0, 2, 0, 0, 2, 0, 2]\n",
      "idx='A0A1Y1Y6N9' [2, 2, 0, 0, 0, 2, 0, 0, 0, 2, 0]\n",
      "idx='A0A553N736' [0, 0, 0, 0, 0, 0, 0, 0, 0, 2, 0]\n",
      "idx='A0A0G4KE81' [2, 2, 0, 2, 0, 2, 0, 0, 2, 0, 1]\n",
      "idx='A0A6A1VES8' [0, 0, 0, 1, 0, 2, 0, 0, 0, 0, 0]\n",
      "idx='A0A1Q9DW67' [1, 0, 0, 1, 0, 2, 0, 0, 0, 2, 0]\n",
      "idx='J9I5T7' [2, 0, 0, 0, 0, 1, 0, 0, 0, 0, 0]\n",
      "idx='A0A2P5WLD7' [0, 0, 0, 0, 0, 2, 0, 0, 0, 0, 0]\n",
      "idx='A0A2J8A3F4' [0, 2, 0, 0, 0, 2, 0, 0, 0, 0, 0]\n",
      "idx='J9ID18' [2, 0, 0, 0, 0, 1, 0, 0, 0, 0, 0]\n",
      "idx='A0A553P3C1' [2, 0, 0, 0, 2, 2, 2, 2, 2, 2, 0]\n",
      "idx='A0A3C1CWU4' [1, 0, 1, 0, 0, 2, 1, 0, 0, 1, 0]\n",
      "idx='A0A226MQD7' [1, 0, 1, 1, 2, 2, 2, 1, 1, 1, 1]\n",
      "idx='E9HAT0' [1, 0, 1, 0, 1, 1, 1, 2, 1, 2, 0]\n",
      "idx='T1II21' [0, 0, 1, 0, 2, 2, 2, 0, 0, 1, 1]\n",
      "idx='G5CA94' [2, 0, 1, 1, 1, 1, 1, 1, 1, 1, 1]\n",
      "idx='A0A662YXT2' [1, 0, 0, 0, 1, 0, 1, 2, 2, 1, 0]\n",
      "idx='L5MB47' [0, 0, 1, 1, 2, 1, 1, 1, 1, 1, 1]\n",
      "idx='A0A183BJZ4' [0, 0, 0, 0, 0, 0, 0, 0, 0, 0, 2]\n",
      "idx='A0A183F7D7' [0, 0, 0, 0, 1, 1, 2, 2, 0, 0, 0]\n"
     ]
    }
   ],
   "source": [
    "for idx in matcharr[multi_hit]:\n",
    "    print(f\"{idx=} {matchdict[idx]}\")"
   ]
  },
  {
   "cell_type": "code",
   "execution_count": 19,
   "metadata": {},
   "outputs": [
    {
     "name": "stdout",
     "output_type": "stream",
     "text": [
      "len(matcharr[hit_in_all])=13039\n"
     ]
    }
   ],
   "source": [
    "# Which sequences have single matches to all helices?\n",
    "hit_in_all = arr[0:, 10] == 1  # Boolean array\n",
    "matcharr[hit_in_all]  # All sequences with single match to helix 2\n",
    "print(f\"{len(matcharr[hit_in_all])=}\")"
   ]
  },
  {
   "cell_type": "code",
   "execution_count": 20,
   "metadata": {},
   "outputs": [],
   "source": [
    "seqs = matcharr[all_hit]"
   ]
  },
  {
   "cell_type": "code",
   "execution_count": 21,
   "metadata": {},
   "outputs": [
    {
     "data": {
      "text/plain": [
       "array(['split3', 'A0A3B0VBX0', 'A0A7H9LQE1', 'A0A7Z8E0C9', 'A0A7L5V1U3',\n",
       "       'A0A0G9FTQ5', 'A0A0H2V4V5', 'A0A0H3EFX5', 'A0A7D6UU82',\n",
       "       'A0A7U9FWD7', 'S1Q791', 'V0USB2', 'A0A0E2L910', 'A0A0H2YWR5',\n",
       "       'A0A1X3K8A5', 'A0A2G8ZSQ8', 'B7MDB0', 'Q1RF84', 'A0A454A1W4',\n",
       "       'A0A029IB89', 'A0A376DD79', 'A0A6D0IPB6', 'A0A4V1GRD5',\n",
       "       'A0A4Z0I205', 'A0A5F1GAR9', 'A0A659KB79', 'A0A403LZ88',\n",
       "       'A0A2X7MWY2', 'A0A376HV85', 'B7UJS4', 'A0A774N2U7', 'A0A5B9AVA9',\n",
       "       'A0A7L7E9T8', 'A0A7D7DEA0', 'A0A6D0H9H5', 'A0A061YLH2',\n",
       "       'A0A192CI04', 'F4SUS0', 'W8ZN64', 'A0A0J2B7N6', 'A0A7U9GAS8',\n",
       "       'L3QER2', 'A0A0K4NK65', 'A0A1X3JT93', 'B1EKN5', 'A0A765T1T4',\n",
       "       'A0A7U8WWI8', 'W0ARE9', 'A0A3S6ZAQ7', 'F0JMA7', 'A0A0K9TBR6',\n",
       "       'A0A2Y0X1Z3', 'F4UZ46', 'A0A777XP81', 'A0A2X7JEZ7', 'L4JGS8',\n",
       "       'A0A377EDZ7', 'A0A080JA88', 'A0A0E0Y4F1', 'A0A0E1LU20',\n",
       "       'A0A0E1SWF0', 'A0A0H3MHY7', 'A0A0H3PRK9', 'A0A0I3I1M3',\n",
       "       'A0A169QHR2', 'A0A1E2VPT8', 'A0A1S9JIM8', 'A0A1X3ICE5',\n",
       "       'A0A1X3J661', 'A0A1X3JM59', 'A0A1X3KPZ4', 'A0A1X3L7P4',\n",
       "       'A0A1X3LND4', 'A0A1Z3UTV8', 'A0A222QGK0', 'A0A2S7SN39',\n",
       "       'A0A380B739', 'A0A3D8XFL0', 'A0A3R0JIQ1', 'A0A4P7TSU2',\n",
       "       'A0A5F1EA44', 'A0A6I1JNB1', 'A0A6I4K9M5', 'A0A7D4R794',\n",
       "       'A0A7L7X414', 'A0A7M3S343', 'A0A7U2WBP9', 'A0A7U8W7U2',\n",
       "       'A0A7U9A095', 'A0A7U9BFW9', 'A0A7U9J184', 'A0A7W4L1U1', 'B1LJK9',\n",
       "       'B6HZM3', 'B7L689', 'B7LMC8', 'B7N905', 'C3TLL2', 'D3QKD7',\n",
       "       'D7XK75', 'D7Y315', 'D8A688', 'D8E0Z9', 'E0J0Y7', 'E1IPD6',\n",
       "       'E1IZY3', 'E3PFR7', 'E6BHT5', 'E7T472', 'E9TLC8', 'E9XPJ9',\n",
       "       'F4NMK9', 'F4SJE9', 'F4TAW7', 'F4VAN9', 'F5NRG4', 'I2SYU9',\n",
       "       'I2WRG0', 'J7RQM7', 'K4WSJ3', 'L3BRW4', 'M9HD98', 'P69680',\n",
       "       'P69681', 'Q3Z4U7', 'S1FIE8', 'U9XNG3', 'U9XNU7', 'U9Z5N5',\n",
       "       'V0AH69', 'V0SFG3', 'V0X7V8', 'V0YPB1', 'A0A085P590', 'D6I7G5',\n",
       "       'A0A5R8TTG8', 'A0A5E8FHS4', 'A0A3U5I4R3', 'F3WEN8', 'A7ZIK9',\n",
       "       'A0A5B9APF5', 'A0A0H0L5P7', 'A0A1X3LTZ9', 'A0A6H2GHI7',\n",
       "       'A0A7U9B577', 'D3GV81', 'I4SYI9', 'A0A0K3VW47', 'A0A2S8JW40',\n",
       "       'A0A2X6R5J9', 'A0A370V060', 'A0A7U9DI03', 'A0A400V067',\n",
       "       'A0A0D8WDX7', 'D6J7F0', 'B7MQG7', 'A0A5F1DQM8', 'A0A5F1HMX5',\n",
       "       'A0A5F1HQT1', 'A0A659KHW7', 'A0A659KP48', 'A0A0K3ZFG5',\n",
       "       'A0A2H4TPQ0', 'A0A6C9FSB1', 'A0A377C2G0', 'A0A140NCU4',\n",
       "       'A0A1V3W5E6', 'S1ITE1', 'A0A5F1EF29', 'A0A2S8DBI3', 'A0A2S8DMV9',\n",
       "       'A0A3T2UQK6', 'A0A6N3QL60', 'B2U4Q7', 'I6EU82', 'Q325E9',\n",
       "       'A0A5F1T4T7', 'A0A7Z8GIZ0', 'A0A6B0EE40', 'A0A6C8U6V2',\n",
       "       'A0A6I4LQD6', 'A0A376FN79', 'I6D653', 'A0A0H2UXH1', 'A0A200LBC6',\n",
       "       'D2A8K9', 'Q0T7D2', 'A0A0A0FA59', 'A0A5D8MZE9', 'A0A0A0H0Z6',\n",
       "       'A0A3J7BZ95', 'A0A4P8C854', 'A0A7U9LR43', 'A0A6N9MNT8',\n",
       "       'A0A7W4PT99', 'A0A7I6SEJ6', 'A0A4C7AR52', 'A0A659L246',\n",
       "       'A0A2U9KM81', 'I2UQG2', 'A0A154CGJ2', 'A0A7G6KC78', 'A0A0F3UAY3',\n",
       "       'A0A2T8T9A2', 'A0A3U9ZMY8', 'A0A5I5S555', 'A0A2S4S0E2',\n",
       "       'A0A232SVI7', 'A0A3T3G850', 'A0A3V4SN19', 'A0A3V9WXG6',\n",
       "       'A0A3W0FDV9', 'A0A3Z8CC64', 'A0A5I0BLU8', 'A0A5I1LJH2',\n",
       "       'A0A5W0T9W6', 'A0A5W5I1I2', 'A0A5W5K2D6', 'A0A658IHQ9',\n",
       "       'A0A735AQC8', 'A0A752ICG4', 'A0A3R8ZDQ3', 'A0A5Z4QGG3',\n",
       "       'A0A2S4QAD3', 'A0A4P6WML2', 'A0A156D7X1', 'A0A379SFA5',\n",
       "       'A0A5T8WLN4', 'A0A741SJU7', 'A9MM07', 'A0A1B7I1P1', 'A0A3V7IKH8',\n",
       "       'A0A6W0NV84', 'A0A658NZZ1', 'A0A7I6XFL4', 'A0A7X8S2P5',\n",
       "       'A0A5U8T7F7', 'A0A223JNJ0', 'A0A6L5E839', 'A0A6N2RGB7',\n",
       "       'A0A381G3N6', 'A0A3S7D895', 'A0A7L6UF93', 'A0A7L6YMP6',\n",
       "       'A0A7L6YYW6', 'A0A657FKX5', 'A0A3S4IUR6', 'A0A064E7T1',\n",
       "       'A0A0J1Q2T2', 'A0A1R0G0A4', 'A0A2I8S3A6', 'A0A2I8THS3',\n",
       "       'A0A2N4V4M4', 'A0A5B0TH32', 'A0A6H3AW57', 'A0A7D7EN77',\n",
       "       'A0A7L6BVW0', 'A0A7L6DVZ7', 'A0A7L6EA44', 'A0A7L6HQJ6',\n",
       "       'A0A7L6IJ37', 'A0A7L6JRI8', 'A0A7L6PFH6', 'A0A7L6U5J8',\n",
       "       'A0A7W2ZDS7', 'A0A7W3DRC9', 'A0A7W3GG99', 'A0A7W3HPP7',\n",
       "       'A0A7X9M7Z5', 'R8X445', 'A0A241QET5', 'A0A3N5E2P4', 'A0A5I5X728',\n",
       "       'A0A760R0H3', 'A0A7L6EPG4', 'A0A731GFV4', 'A0A5U0S679',\n",
       "       'A0A5Y2KHU9', 'A0A4U6H3R7', 'A0A0D7LNS3', 'A0A0J1N4L4',\n",
       "       'A0A212I781', 'A0A2L0T886', 'A0A2T1LN43', 'A0A5I0U8C0',\n",
       "       'A0A620FSH5', 'A0A636J376', 'A0A659Q133', 'A0A636KDJ0',\n",
       "       'A0A603BCS0', 'A0A735HGT3', 'A0A745WR23', 'A0A2A6DAP4',\n",
       "       'A0A3V2EPA1', 'A0A3V3M1D2', 'A0A3V8Z0X2', 'A0A5C5HB78',\n",
       "       'A0A5I7TD00', 'A0A5V9ADJ2', 'A0A5Y8G2J6', 'A0A4P5QW76', 'D4BD05',\n",
       "       'A0A740LUA7', 'A0A2T9I5M3', 'A0A3K1KUN5', 'A0A3R0S7M5',\n",
       "       'A0A5Y4VB79', 'A0A701B731', 'A0A727ZD00', 'B5EXK4', 'A0A729QGI9',\n",
       "       'A0A0F6TSZ2', 'A0A753FTL6', 'A0A2T6X104', 'A0A3T3ET14',\n",
       "       'A0A401AQH7', 'A0A418ZDQ4', 'A0A509CGC7', 'A0A5Z3GNH0',\n",
       "       'A0A6C8LST1', 'A0A729FP90', 'A0A736NMS1', 'A0A737EKL9',\n",
       "       'A0A3U3CAL2', 'A0A486X4W2', 'A0A5V2QZC2', 'A0A708E3I8',\n",
       "       'A0A5V6PTF8', 'A0A3Y4MKH8', 'A0A5H7D7L0', 'A0A0J1LKI9',\n",
       "       'A0A3X2HEX7', 'A0A3U9DSH0', 'A0A403SWK7', 'A0A735VP71',\n",
       "       'A0A7G5KR44', 'A0A3Q9LJP2', 'A0A3G3E3Q9', 'A0A5I0EUM0',\n",
       "       'A0A5I4F7R6', 'A0A5Z3CWK4', 'A0A6C8H7P5', 'A0A752E6V3', 'G5LK15',\n",
       "       'A0A629EQP8', 'A0A736H9P3', 'A0A3F3IQU1', 'A0A3U8NMH6',\n",
       "       'A0A447JM56', 'A0A5I3CXI9', 'A0A738ARF4', 'A0A2K9PBY5',\n",
       "       'A0A2U4DHW9', 'A0A0N1QV34', 'A0A1R2WNN3', 'A0A2T8XGA6',\n",
       "       'A0A2T9Q8F9', 'A0A3T3IJJ6', 'A0A3V6MHU3', 'A0A3V9NJ26',\n",
       "       'A0A3V9PSJ6', 'A0A3Z6QEJ4', 'A0A3Z7DQB2', 'A0A419ID40',\n",
       "       'A0A509BZN6', 'A0A5H7GL07', 'A0A5H7LD11', 'A0A5I9JJ01',\n",
       "       'A0A5J1IPI4', 'A0A5W0X0T7', 'A0A5X3QZS4', 'A0A602Z6N0',\n",
       "       'A0A605YM60', 'A0A620WCZ1', 'A0A631QMW7', 'A0A634N0F4',\n",
       "       'A0A637QM35', 'A0A656IBS1', 'A0A6C7A264', 'A0A6C7HMI9',\n",
       "       'A0A6Y6DC15', 'A0A719E5B5', 'A0A730TVL1', 'B5R5Y8', 'M7SGT4',\n",
       "       'A0A5X3NWY8', 'A0A624B4S8', 'A0A710E468', 'A0A627NIF1',\n",
       "       'A0A2I5HJJ6', 'A0A505CZ97', 'A0A5T4LGI1', 'A0A760RAW1',\n",
       "       'A0A379XT74', 'A0A701Z9M0', 'A0A6C8GSM4', 'G5N8V9', 'G5QVT5',\n",
       "       'G5RRL4', 'G5S7L4', 'A0A5Z7B0I3', 'A0A738X675', 'A0A6X9IYL2',\n",
       "       'A0A5H5M1Q0', 'A0A5W7RTX4', 'A0A3V7KRQ3', 'A0A3V8VLJ9',\n",
       "       'A0A5X7JZF5', 'A0A608MSZ5', 'A0A639TRB6', 'A0A756KGI3',\n",
       "       'A0A5W8C9A2', 'A0A4R8F1T3', 'A0A5V2WYN9', 'A0A2C9P480',\n",
       "       'A0A3U7XK95', 'A0A5U7H136', 'A0A737DKU6', 'A0A5I8HSH6',\n",
       "       'A0A0F6AXU3', 'A0A0F7J642', 'A0A0H3BUZ0', 'A0A0H3NDP4',\n",
       "       'A0A0R9MP23', 'A0A0T9Y3B5', 'A0A1S0ZHL0', 'A0A265B907',\n",
       "       'A0A2R4DCS1', 'A0A2T8MNJ2', 'A0A2T8QQE5', 'A0A315GV26',\n",
       "       'A0A3A3IXW6', 'A0A3Q9MQX4', 'A0A3R0D955', 'A0A3R1ABY9',\n",
       "       'A0A3T2WBX1', 'A0A3T9YBW0', 'A0A3U0BVS4', 'A0A3U8PAA0',\n",
       "       'A0A3V3CHP0', 'A0A3V4BE95', 'A0A3V4QGF0', 'A0A3V5UKG6',\n",
       "       'A0A3V5VRV7', 'A0A3V5ZAB3', 'A0A3V6WDT6', 'A0A3V7LQ16',\n",
       "       'A0A3V7PDU4', 'A0A3Y5ZCJ6', 'A0A3Z1EIA5', 'A0A3Z6NUP7',\n",
       "       'A0A403SNE0', 'A0A426WS41', 'A0A494ITR4', 'A0A4D6P754',\n",
       "       'A0A4P9SZQ8', 'A0A4Q8S5U6', 'A0A4U8J8F5', 'A0A4Z8Y3V9',\n",
       "       'A0A5H7FVQ6', 'A0A5H7JYR7', 'A0A5H7RX17', 'A0A5H8H6G8',\n",
       "       'A0A5H9VJH1', 'A0A5H9YRV5', 'A0A5I0F7J5', 'A0A5I0MZQ2',\n",
       "       'A0A5I0P4T6', 'A0A5I1AR83', 'A0A5I1FF64', 'A0A5I1KUU3',\n",
       "       'A0A5I2FIK4', 'A0A5I2P4K2', 'A0A5I2X4H5', 'A0A5I2YKE1',\n",
       "       'A0A5I2Z8H2', 'A0A5I3I3J2', 'A0A5I4DH18', 'A0A5I4U243',\n",
       "       'A0A5I5DRC3', 'A0A5I6HW78', 'A0A5I6S281', 'A0A5I9B5Z3',\n",
       "       'A0A5J0NVY5', 'A0A5J0PH75', 'A0A5T5I7J6', 'A0A5V8XY93',\n",
       "       'A0A5V9GIJ5', 'A0A5W1VEF1', 'A0A5W2A338', 'A0A5W2RT58',\n",
       "       'A0A5W8M9L0', 'A0A5X6EFN2', 'A0A5Y0WRT2', 'A0A606PWS2',\n",
       "       'A0A609W1U8', 'A0A636NYQ7', 'A0A636WRB8', 'A0A657HXB5',\n",
       "       'A0A663DEF2', 'A0A6C6ZHT0', 'A0A6C7I7V4', 'A0A6C8EU95',\n",
       "       'A0A6M3P0P4', 'A0A6V9XPS3', 'A0A6W0LYX7', 'A0A701S853',\n",
       "       'A0A714PR86', 'A0A720GHW1', 'A0A724J3X3', 'A0A729WEU2',\n",
       "       'A0A735ISP6', 'A0A737JV15', 'A0A737R9B1', 'E8X850', 'G5PZ41',\n",
       "       'Q7CR19', 'Q8XFU8', 'V7IN41', 'A0A3U3D3X3', 'A0A5J0HUI0',\n",
       "       'A0A5T5TBA2', 'A0A5U9Q940', 'A0A617JQW4', 'A0A3U2X7G0',\n",
       "       'A0A4Q8PDH1', 'A0A722T371', 'A0A5I0CRU5', 'A0A5T4NIJ1',\n",
       "       'A0A738AEZ9', 'A0A5I4ZZ42', 'A0A5I6QYU4', 'A0A5U2D7L0',\n",
       "       'A0A5Y3ATZ2', 'A0A5I8UGT1', 'A0A630MWG6', 'Q57S99', 'A0A3T7WY01',\n",
       "       'A0A3V0H109', 'A0A3V7IHA6', 'A0A402W590', 'A0A5H6NV16',\n",
       "       'A0A5H7IQ42', 'A0A5I4QET7', 'A0A5I8VF25', 'A0A5J0XFK8',\n",
       "       'A0A5J1UKE4', 'A0A708CNT2', 'A0A3T2YPG6', 'A0A3V2RKX0',\n",
       "       'A0A3V3U611', 'A0A5H6T2Y1', 'A0A5I0M8R2', 'A0A5I3U6K6',\n",
       "       'A0A5I4RGT8', 'A0A5T9MW19', 'A0A752VQ03', 'A0A5C2M2T3',\n",
       "       'A0A5Y7A2D6', 'C0Q7Y8', 'A0A1B7HUF3', 'A0A3A5JTW9', 'A0A737C8A3',\n",
       "       'A0A756PH80', 'A0A6I2J3U7', 'A0A5V0PTN3', 'A0A5W7FBP3',\n",
       "       'A0A6X7X924', 'A0A3U2RQF9', 'A0A5U6SH03', 'A0A3Y4IJ03',\n",
       "       'A0A4Y6ME87', 'A0A5I4KF26', 'A0A5I6QFK6', 'A0A5U2MW70',\n",
       "       'A0A5W2LR05', 'A0A085GI50', 'A0A3Z7NLT2', 'A0A5I5STG8',\n",
       "       'A0A639ZKI3', 'A0A5U2P7U7', 'A0A602MHF4', 'A0A5Y7WJS1',\n",
       "       'A0A744FRV3', 'A0A5V5RAD1', 'A0A5Z8GDG9', 'A0A737BLA7',\n",
       "       'A0A752ZZE9', 'A0A715ME98', 'A0A5U4KK92', 'A0A379QMT0',\n",
       "       'A0A5Y3UW84', 'A0A6C7CE76', 'A0A739CZ49', 'A0A3R0UJ71',\n",
       "       'A0A5Z7ST90', 'A0A630XH33', 'A0A3J8LFL7', 'A0A5Y3Q0V6',\n",
       "       'A0A737F201', 'A0A740VFC8', 'A0A7T8FFF6', 'A0A3Q9L4U8',\n",
       "       'A0A757JYQ5', 'A0A3F3J141', 'A0A3R0Q550', 'A0A3U6Z2H0',\n",
       "       'A0A5U3EWV7', 'A0A701UJR1', 'A0A7U5YE83', 'A0A7Z0Y5J0',\n",
       "       'A0A636FAG5', 'A0A754T2H3', 'A0A3G2ID16', 'A0A0V9JYI1',\n",
       "       'A0A7L6XP11', 'A0A7L6YFM4', 'A0A344SE54', 'A0A6Y5LBX4',\n",
       "       'A0A718AF86', 'A0A763HN03', 'A0A5Y2QH19', 'A0A701YWX0',\n",
       "       'A0A1U7FLN9', 'A0A3V9RXW7', 'A0A5I4XLS4', 'A0A5W8WYN3',\n",
       "       'A0A621VVF4', 'A0A736E874', 'A0A336QJD0', 'A0A5X9FBY4',\n",
       "       'A0A6Y4HYA5', 'A0A611NET0', 'A0A742N9J7', 'A0A6N6KC59',\n",
       "       'A0A7W3GKM0', 'A0A626SC51', 'A0A621TDA5', 'A0A5U7LPX4',\n",
       "       'A0A3Y8WKX3', 'A0A750XGG0', 'A0A379Q9J9', 'A0A379TEW3',\n",
       "       'A0A634F7D8', 'A0A3V8D8L7', 'A0A5T2KKL6', 'A0A735MZH3',\n",
       "       'A0A5J0RG87', 'A0A730ZTZ3', 'A0A6D2GD20', 'A0A6C7DCY4',\n",
       "       'A0A4U6LHI2', 'A0A7W3C2L0', 'A0A7I7DNW6', 'A0A731YKV7',\n",
       "       'A0A1B7IVB9', 'V1H4U6', 'A0A0H2WR82', 'A0A3Z1HWW2', 'A0A5H9JWW8',\n",
       "       'A0A5Z0WD72', 'A0A6C7I0R1', 'A0A719U3T7', 'A0A748HTZ0',\n",
       "       'A0A381CAY8', 'A0A622TX48', 'A0A717YPX1', 'A0A379SE70',\n",
       "       'A0A5Y1WIA7', 'A0A5Y2S4J2', 'A0A3Z3FTC7', 'A0A729JS39',\n",
       "       'A0A702G8V3', 'A0A4P7J3E2', 'A0A5X5CVD8', 'A0A379U3R1',\n",
       "       'A0A3I8FV74', 'A0A3V4IIS8', 'A0A731R475', 'A0A4R6E4B1',\n",
       "       'A0A376I2R4', 'A0A3E2KWM5', 'A0A4U6MK98', 'A0A7D7A830',\n",
       "       'A0A482PLH3', 'D2TLS8', 'A0A6C8YFK3', 'A0A735PZZ4', 'A0A1J6Z5R4',\n",
       "       'A0A344SSM8', 'A0A3V2XSS0', 'A0A5Y6M6S1', 'A0A701URF6',\n",
       "       'A0A727THW6', 'A0A729FWA7', 'A0A730K273', 'A0A735LBU7',\n",
       "       'A0A737NPH3', 'A0A752IX81', 'A0A5Y7AGK0', 'A0A6C8G489',\n",
       "       'A0A2X3M4W8', 'A0A5I0RCG7', 'A0A6Y2KI62', 'A0A402UTA0',\n",
       "       'A0A702B6X2', 'A0A702KVE2', 'A0A3J0PFN3', 'A0A756LG89',\n",
       "       'A0A5U2TR64', 'A0A737I6R4', 'A0A753B746', 'A0A751CYP9',\n",
       "       'A0A3S5YM00', 'A0A5W3DWV2', 'A0A710Q0T2', 'A0A5V4Z0B5',\n",
       "       'A0A765BH94', 'A0A078LKD1', 'A0A5Q2TDQ1', 'A0A7U4I744',\n",
       "       'A0A729K9T5', 'A0A6B0T747', 'A0A5Y3MUS3', 'A0A603KWM2',\n",
       "       'A0A732GPS2', 'A0A734HKA3', 'A0A738CQ26', 'A8AK00', 'A0A402XJH8',\n",
       "       'A0A0U1HR47', 'A0A2S5KH46', 'A0A1X1DC56', 'A0A701VZ98',\n",
       "       'A0A737MGJ8', 'A0A737VWF8', 'A0A0T9M693', 'A0A2T2Y0D5',\n",
       "       'A0A7I6QD21', 'A0A7I6QUA9', 'A0A7I6RTR1', 'A0A7I6T8E7',\n",
       "       'A0A7I6TM38', 'A0A7I6U3H8', 'A0A7I6VS00', 'A0A209A1K9',\n",
       "       'A0A5V7DNA2', 'A0A756CY92', 'A0A737GZR9', 'A0A2J9SIW1',\n",
       "       'A0A7H4ZH93', 'A0A7U0AWW3', 'A0A0H3NLY7', 'A0A0H5KAU5',\n",
       "       'A0A0T9UG31', 'A0A3S4GL84', 'A0A7U7FKE7', 'A0A7U7FRL2', 'A1JNJ8',\n",
       "       'A0A7T9Y5C8', 'A0A7U7ING8', 'A0A085U5C1', 'A0A0T9L8K6',\n",
       "       'A0A2A7TDF7', 'A0A0T9NJY2', 'A0A2X3EIF4', 'A0A209B0L9',\n",
       "       'A0A481QED2', 'A0A7U4GDT4', 'A0A5Y3X9J5', 'A0A0T9TL46',\n",
       "       'A0A0B6FUU5', 'A0A0T9N9D2', 'A0A209AI19', 'A0A0T9UJ26',\n",
       "       'A0A7U7IXQ2', 'A0A3S6EVI2', 'A0A0T9UML4', 'A0A6M1Q6K9',\n",
       "       'A0A2R4NWI0', 'A0A0T9UHX8', 'A0A0H5LUX1', 'A0A6L6HFA3',\n",
       "       'A0A0T9NZ96', 'A0A2G4U2X5', 'A0A4P8YHG7', 'A0A0T9PRJ6',\n",
       "       'A0A7D4P4Z0', 'A0A0T9SXB9', 'A0A0U1I2X7', 'A0A2G4UHN8',\n",
       "       'A0A2J9E6B1', 'A0A0J8YVT0', 'A0A2G8BS95', 'A0A518XAL9',\n",
       "       'A0A4Z0KCH8', 'A0A1H9IHF3', 'A0A3N4PVR8', 'A0A3N1VXY4',\n",
       "       'A0A0E8XFJ9', 'A0A7Y8YDI8', 'A0A286BQQ6', 'A0A3D0EI79', 'E3DJG7',\n",
       "       'H3R999', 'A0A2P5IR76', 'A0A380Q5P3', 'A0A2S9IIF1', 'A0A1X1CTZ7',\n",
       "       'A0A0H2YF12', 'A0A0H3B6F1', 'A0A0U1QX01', 'A0A3G5KID1',\n",
       "       'A0A5P8YJU4', 'Q66DR9', 'A0A1V9DIA7', 'A0A6I6IFH6', 'A0A7U4HVB1',\n",
       "       'D2T4I5', 'A0A095UL81', 'A0A0A3ZS89', 'A0A1Y0L5G8', 'A0A014MFU3',\n",
       "       'A0A3N6SPH7', 'A0A2V3Q0N2', 'A0A6G6JU01', 'A0A7X3M4I8',\n",
       "       'A0A6I2JKB6', 'A0A7W5JLD6', 'J3HNJ8', 'A0A0A3ZAU5', 'A0A7Y7SP15',\n",
       "       'A0A0M2K5G4', 'A0A0E1NPE4', 'A0A0B1RBG9', 'A0A0U3K150',\n",
       "       'A0A2M9WAM2', 'A0A7V8SNG0', 'J3DFW3', 'A0A2V5BSW6', 'A0A7Z2BQK9',\n",
       "       'A0A345CNB1', 'A0A2V3SMZ7', 'A0A7U4TA26', 'E1SGC4', 'A0A2U1DJP0',\n",
       "       'A0A0H3KTD3', 'A0A7Z0I6C4', 'D4GLQ6', 'A0A419MC95', 'A0A7X9I0Z9',\n",
       "       'A0A506P800', 'A0A2V2BH85', 'A0A501SIR7', 'A0A5Q2FQQ5', 'E0LTU3',\n",
       "       'A0A5M7LX27', 'A0A349IGI6', 'A0A2I0FT29', 'A0A081S219', 'T0QHC9',\n",
       "       'A0A6B3J990', 'A0A419N785', 'U7R3F9', 'A0A1I5AGN5', 'A0A0Q4NQU6',\n",
       "       'A0A4S3LQB7', 'A0A4R2Z2K6', 'A0A4R7GKA0', 'A0A506Q381',\n",
       "       'A0A0P0F118', 'A7XNI4', 'A0A060DHT0', 'G8AF40', 'A0A0H3FCG8',\n",
       "       'H8NYJ4', 'A0A1X1BYC5', 'A0A653WIP3', 'A0A084A5G1', 'A0A2L1URJ0',\n",
       "       'A0A2N0W8L7', 'A0A6M2B596', 'H2IZ00', 'A0A2N5EQM3', 'A0A2V1HJV7',\n",
       "       'A0A2N5E9V9', 'A0A5F0S2C8', 'A0A6I4V6F0', 'A0A198FKX3',\n",
       "       'A0A495RIE0', 'A0A379WET1', 'A0A2N5EAZ5', 'A0A7C9GP82', 'O67997',\n",
       "       'A0A447R865', 'A0A4R4K1P9', 'W3VDI9', 'A0A1E3Z0L8', 'A0A1Q3S3G1',\n",
       "       'A0A495FJE8', 'A0A1E3ZVB5', 'K0HVX3', 'A0A7X5QMH7', 'Q6BT62',\n",
       "       'A0A4D4JRE4', 'A0A389MDV3', 'A0A502GPV4', 'A0A085G774',\n",
       "       'A0A2N0MZ27', 'A0A7G5CMJ4', 'A0A2H0ZGU0', 'A0A1A0HD25', 'G8YE72',\n",
       "       'A0A536SPC3', 'A0A1F4DD73', 'A0A510P8F4', 'A0A2S9Q4A4',\n",
       "       'A0A2V1B058', 'A0A202FYD4', 'A0A7W9L2K5', 'A0A2T6FGF0',\n",
       "       'A0A2P7YMM7', 'A0A4P6XX03', 'A0A1L0BJA2', 'A0A1L0BMN9',\n",
       "       'A0A6M4GZN9', 'A0A5J6PK18', 'A0A7K0KD91', 'A0A0U2TXH6',\n",
       "       'A0A3D2N8C5', 'A0A536UQS2', 'A0A7C9PFW2', 'A0A6M4HAE7', 'C4Y3T9',\n",
       "       'G3AWF8'], dtype='<U10')"
      ]
     },
     "execution_count": 21,
     "metadata": {},
     "output_type": "execute_result"
    }
   ],
   "source": [
    "seqs"
   ]
  },
  {
   "cell_type": "code",
   "execution_count": 22,
   "metadata": {},
   "outputs": [
    {
     "name": "stdout",
     "output_type": "stream",
     "text": [
      "935\n"
     ]
    }
   ],
   "source": [
    "print(len(seqs))"
   ]
  },
  {
   "cell_type": "code",
   "execution_count": 23,
   "metadata": {},
   "outputs": [],
   "source": [
    "seq = pd.DataFrame(matcharr[all_hit])"
   ]
  },
  {
   "cell_type": "code",
   "execution_count": 24,
   "metadata": {},
   "outputs": [
    {
     "data": {
      "text/html": [
       "<div>\n",
       "<style scoped>\n",
       "    .dataframe tbody tr th:only-of-type {\n",
       "        vertical-align: middle;\n",
       "    }\n",
       "\n",
       "    .dataframe tbody tr th {\n",
       "        vertical-align: top;\n",
       "    }\n",
       "\n",
       "    .dataframe thead th {\n",
       "        text-align: right;\n",
       "    }\n",
       "</style>\n",
       "<table border=\"1\" class=\"dataframe\">\n",
       "  <thead>\n",
       "    <tr style=\"text-align: right;\">\n",
       "      <th></th>\n",
       "      <th>0</th>\n",
       "    </tr>\n",
       "  </thead>\n",
       "  <tbody>\n",
       "    <tr>\n",
       "      <th>0</th>\n",
       "      <td>split3</td>\n",
       "    </tr>\n",
       "    <tr>\n",
       "      <th>1</th>\n",
       "      <td>A0A3B0VBX0</td>\n",
       "    </tr>\n",
       "    <tr>\n",
       "      <th>2</th>\n",
       "      <td>A0A7H9LQE1</td>\n",
       "    </tr>\n",
       "    <tr>\n",
       "      <th>3</th>\n",
       "      <td>A0A7Z8E0C9</td>\n",
       "    </tr>\n",
       "    <tr>\n",
       "      <th>4</th>\n",
       "      <td>A0A7L5V1U3</td>\n",
       "    </tr>\n",
       "    <tr>\n",
       "      <th>...</th>\n",
       "      <td>...</td>\n",
       "    </tr>\n",
       "    <tr>\n",
       "      <th>930</th>\n",
       "      <td>A0A536UQS2</td>\n",
       "    </tr>\n",
       "    <tr>\n",
       "      <th>931</th>\n",
       "      <td>A0A7C9PFW2</td>\n",
       "    </tr>\n",
       "    <tr>\n",
       "      <th>932</th>\n",
       "      <td>A0A6M4HAE7</td>\n",
       "    </tr>\n",
       "    <tr>\n",
       "      <th>933</th>\n",
       "      <td>C4Y3T9</td>\n",
       "    </tr>\n",
       "    <tr>\n",
       "      <th>934</th>\n",
       "      <td>G3AWF8</td>\n",
       "    </tr>\n",
       "  </tbody>\n",
       "</table>\n",
       "<p>935 rows × 1 columns</p>\n",
       "</div>"
      ],
      "text/plain": [
       "              0\n",
       "0        split3\n",
       "1    A0A3B0VBX0\n",
       "2    A0A7H9LQE1\n",
       "3    A0A7Z8E0C9\n",
       "4    A0A7L5V1U3\n",
       "..          ...\n",
       "930  A0A536UQS2\n",
       "931  A0A7C9PFW2\n",
       "932  A0A6M4HAE7\n",
       "933      C4Y3T9\n",
       "934      G3AWF8\n",
       "\n",
       "[935 rows x 1 columns]"
      ]
     },
     "execution_count": 24,
     "metadata": {},
     "output_type": "execute_result"
    }
   ],
   "source": [
    "seq"
   ]
  },
  {
   "cell_type": "code",
   "execution_count": 25,
   "metadata": {},
   "outputs": [],
   "source": [
    "seq = seq.set_index(0)"
   ]
  },
  {
   "cell_type": "code",
   "execution_count": 26,
   "metadata": {},
   "outputs": [],
   "source": [
    "seq.to_csv('5ref2.txt')"
   ]
  },
  {
   "cell_type": "code",
   "execution_count": 27,
   "metadata": {},
   "outputs": [
    {
     "name": "stdout",
     "output_type": "stream",
     "text": [
      "len(matcharr[hit_in_6])=48123\n"
     ]
    }
   ],
   "source": [
    "# Which sequences have single matches to helix 6?\n",
    "hit_in_6 = arr[:, 5] == 1  # Boolean array\n",
    "matcharr[hit_in_6]  # All sequences with single match to helix 2\n",
    "print(f\"{len(matcharr[hit_in_6])=}\")"
   ]
  },
  {
   "cell_type": "code",
   "execution_count": 28,
   "metadata": {},
   "outputs": [
    {
     "name": "stdout",
     "output_type": "stream",
     "text": [
      "len(matcharr[hit_in_5])=12028\n"
     ]
    }
   ],
   "source": [
    "# Which sequences have single matches to helix 5?\n",
    "hit_in_5 = arr[:, 4] == 1  # Boolean array\n",
    "matcharr[hit_in_5]  # All sequences with single match to helix 2\n",
    "print(f\"{len(matcharr[hit_in_5])=}\")"
   ]
  },
  {
   "cell_type": "code",
   "execution_count": 29,
   "metadata": {},
   "outputs": [
    {
     "name": "stdout",
     "output_type": "stream",
     "text": [
      "len(matcharr[hit_in_4])=25525\n"
     ]
    }
   ],
   "source": [
    "# Which sequences have single matches to helix 2?\n",
    "hit_in_4 = arr[:, 3] == 1  # Boolean array\n",
    "matcharr[hit_in_4]  # All sequences with single match to helix 2\n",
    "print(f\"{len(matcharr[hit_in_4])=}\")"
   ]
  },
  {
   "cell_type": "code",
   "execution_count": 30,
   "metadata": {},
   "outputs": [
    {
     "name": "stdout",
     "output_type": "stream",
     "text": [
      "len(matcharr[hit_in_1])=34353\n"
     ]
    }
   ],
   "source": [
    "# Which sequences have single matches to helix 1?\n",
    "hit_in_1 = arr[:, 0] == 1  # Boolean array\n",
    "matcharr[hit_in_1]  # All sequences with single match to helix 1\n",
    "print(f\"{len(matcharr[hit_in_1])=}\")"
   ]
  },
  {
   "cell_type": "code",
   "execution_count": 31,
   "metadata": {},
   "outputs": [
    {
     "name": "stdout",
     "output_type": "stream",
     "text": [
      "len(matcharr[hit_in_3])=16624\n"
     ]
    }
   ],
   "source": [
    "# Which sequences have single matches to helix 3?\n",
    "hit_in_3 = arr[:, 2] == 1  # Boolean array\n",
    "matcharr[hit_in_3]  # All sequences with single match to helix 3\n",
    "print(f\"{len(matcharr[hit_in_3])=}\")"
   ]
  },
  {
   "cell_type": "code",
   "execution_count": 32,
   "metadata": {},
   "outputs": [
    {
     "name": "stdout",
     "output_type": "stream",
     "text": [
      "len(matcharr[hit_in_2])=16556\n"
     ]
    }
   ],
   "source": [
    "# Which sequences have single matches to helix 2?\n",
    "hit_in_2 = arr[:, 1] == 1  # Boolean array\n",
    "matcharr[hit_in_2]  # All sequences with single match to helix 2\n",
    "print(f\"{len(matcharr[hit_in_2])=}\")"
   ]
  },
  {
   "cell_type": "code",
   "execution_count": 33,
   "metadata": {},
   "outputs": [
    {
     "name": "stdout",
     "output_type": "stream",
     "text": [
      "len(matcharr[hit_in_7])=21734\n"
     ]
    }
   ],
   "source": [
    "# Which sequences have single matches to helix 2?\n",
    "hit_in_7 = arr[:, 6] == 1  # Boolean array\n",
    "matcharr[hit_in_7]  # All sequences with single match to helix 2\n",
    "print(f\"{len(matcharr[hit_in_7])=}\")"
   ]
  },
  {
   "cell_type": "code",
   "execution_count": 34,
   "metadata": {},
   "outputs": [
    {
     "name": "stdout",
     "output_type": "stream",
     "text": [
      "len(matcharr[hit_in_8])=8850\n"
     ]
    }
   ],
   "source": [
    "# Which sequences have single matches to helix 2?\n",
    "hit_in_8 = arr[:, 7] == 1  # Boolean array\n",
    "matcharr[hit_in_8]  # All sequences with single match to helix 2\n",
    "print(f\"{len(matcharr[hit_in_8])=}\")"
   ]
  },
  {
   "cell_type": "code",
   "execution_count": 35,
   "metadata": {},
   "outputs": [
    {
     "name": "stdout",
     "output_type": "stream",
     "text": [
      "len(matcharr[hit_in_9])=24225\n"
     ]
    }
   ],
   "source": [
    "# Which sequences have single matches to helix 2?\n",
    "hit_in_9 = arr[:, 8] == 1  # Boolean array\n",
    "matcharr[hit_in_9]  # All sequences with single match to helix 2\n",
    "print(f\"{len(matcharr[hit_in_9])=}\")"
   ]
  },
  {
   "cell_type": "code",
   "execution_count": 36,
   "metadata": {},
   "outputs": [
    {
     "name": "stdout",
     "output_type": "stream",
     "text": [
      "len(matcharr[hit_in_10])=30646\n"
     ]
    }
   ],
   "source": [
    "# Which sequences have single matches to helix 2?\n",
    "hit_in_10 = arr[:, 9] == 1  # Boolean array\n",
    "matcharr[hit_in_10]  # All sequences with single match to helix 2\n",
    "print(f\"{len(matcharr[hit_in_10])=}\")"
   ]
  },
  {
   "cell_type": "code",
   "execution_count": 37,
   "metadata": {},
   "outputs": [
    {
     "name": "stdout",
     "output_type": "stream",
     "text": [
      "len(matcharr[hit_in_11])=13039\n"
     ]
    }
   ],
   "source": [
    "# Which sequences have single matches to helix 2?\n",
    "hit_in_11 = arr[:, 10] == 1  # Boolean array\n",
    "matcharr[hit_in_11]  # All sequences with single match to helix 2\n",
    "print(f\"{len(matcharr[hit_in_11])=}\")"
   ]
  },
  {
   "cell_type": "code",
   "execution_count": 38,
   "metadata": {},
   "outputs": [
    {
     "name": "stdout",
     "output_type": "stream",
     "text": [
      "Helix 0\n",
      "1    34353\n",
      "0    23111\n",
      "2        7\n",
      "3        2\n",
      "Name: 0, dtype: int64\n",
      "Helix 1\n",
      "0    40913\n",
      "1    16556\n",
      "2        4\n",
      "Name: 1, dtype: int64\n",
      "Helix 2\n",
      "0    40849\n",
      "1    16624\n",
      "Name: 2, dtype: int64\n",
      "Helix 3\n",
      "0    31946\n",
      "1    25525\n",
      "2        2\n",
      "Name: 3, dtype: int64\n",
      "Helix 4\n",
      "0    45441\n",
      "1    12028\n",
      "2        4\n",
      "Name: 4, dtype: int64\n",
      "Helix 5\n",
      "1    48123\n",
      "0     9337\n",
      "2       11\n",
      "3        2\n",
      "Name: 5, dtype: int64\n",
      "Helix 6\n",
      "0    35735\n",
      "1    21734\n",
      "2        4\n",
      "Name: 6, dtype: int64\n",
      "Helix 7\n",
      "0    48619\n",
      "1     8850\n",
      "2        4\n",
      "Name: 7, dtype: int64\n",
      "Helix 8\n",
      "0    33244\n",
      "1    24225\n",
      "2        4\n",
      "Name: 8, dtype: int64\n",
      "Helix 9\n",
      "1    30646\n",
      "0    26820\n",
      "2        5\n",
      "3        2\n",
      "Name: 9, dtype: int64\n",
      "Helix 10\n",
      "0    44430\n",
      "1    13039\n",
      "2        4\n",
      "Name: 10, dtype: int64\n"
     ]
    }
   ],
   "source": [
    "for helixnum in range(11):\n",
    "    print(f\"Helix {helixnum}\\n{dfm[helixnum].value_counts()}\")"
   ]
  },
  {
   "cell_type": "code",
   "execution_count": 39,
   "metadata": {},
   "outputs": [],
   "source": [
    "from collections import Counter, defaultdict\n",
    "\n",
    "helix_pattern_counts = Counter([\"\".join((str(_) for _ in pattern)) for pattern in matchdict.values()])"
   ]
  },
  {
   "cell_type": "code",
   "execution_count": 40,
   "metadata": {},
   "outputs": [
    {
     "data": {
      "text/plain": [
       "defaultdict(int,\n",
       "            {11: 935,\n",
       "             4: 5773,\n",
       "             6: 5501,\n",
       "             0: 3594,\n",
       "             1: 9782,\n",
       "             2: 5744,\n",
       "             8: 4364,\n",
       "             9: 2669,\n",
       "             3: 5001,\n",
       "             7: 6237,\n",
       "             5: 6444,\n",
       "             10: 1429})"
      ]
     },
     "execution_count": 40,
     "metadata": {},
     "output_type": "execute_result"
    }
   ],
   "source": [
    "helix_counts = defaultdict(int)\n",
    "for pattern, count in helix_pattern_counts.items():\n",
    "    helix_counts[11 - pattern.count(\"0\")] += count\n",
    "helix_counts"
   ]
  },
  {
   "cell_type": "code",
   "execution_count": 41,
   "metadata": {},
   "outputs": [
    {
     "data": {
      "text/plain": [
       "11"
      ]
     },
     "execution_count": 41,
     "metadata": {},
     "output_type": "execute_result"
    }
   ],
   "source": [
    "nonzero = dfm != 0\n",
    "sum(nonzero.iloc[[0]].any())"
   ]
  },
  {
   "cell_type": "code",
   "execution_count": 42,
   "metadata": {},
   "outputs": [
    {
     "data": {
      "text/html": [
       "<div>\n",
       "<style scoped>\n",
       "    .dataframe tbody tr th:only-of-type {\n",
       "        vertical-align: middle;\n",
       "    }\n",
       "\n",
       "    .dataframe tbody tr th {\n",
       "        vertical-align: top;\n",
       "    }\n",
       "\n",
       "    .dataframe thead th {\n",
       "        text-align: right;\n",
       "    }\n",
       "</style>\n",
       "<table border=\"1\" class=\"dataframe\">\n",
       "  <thead>\n",
       "    <tr style=\"text-align: right;\">\n",
       "      <th></th>\n",
       "      <th>0</th>\n",
       "      <th>1</th>\n",
       "      <th>2</th>\n",
       "      <th>3</th>\n",
       "      <th>4</th>\n",
       "      <th>5</th>\n",
       "      <th>6</th>\n",
       "      <th>7</th>\n",
       "      <th>8</th>\n",
       "      <th>9</th>\n",
       "      <th>10</th>\n",
       "    </tr>\n",
       "  </thead>\n",
       "  <tbody>\n",
       "    <tr>\n",
       "      <th>split3</th>\n",
       "      <td>1</td>\n",
       "      <td>1</td>\n",
       "      <td>1</td>\n",
       "      <td>1</td>\n",
       "      <td>1</td>\n",
       "      <td>1</td>\n",
       "      <td>1</td>\n",
       "      <td>1</td>\n",
       "      <td>1</td>\n",
       "      <td>1</td>\n",
       "      <td>1</td>\n",
       "    </tr>\n",
       "    <tr>\n",
       "      <th>A0A3M6V931</th>\n",
       "      <td>3</td>\n",
       "      <td>0</td>\n",
       "      <td>0</td>\n",
       "      <td>0</td>\n",
       "      <td>0</td>\n",
       "      <td>3</td>\n",
       "      <td>0</td>\n",
       "      <td>0</td>\n",
       "      <td>0</td>\n",
       "      <td>3</td>\n",
       "      <td>2</td>\n",
       "    </tr>\n",
       "    <tr>\n",
       "      <th>A0A3R7Y3I5</th>\n",
       "      <td>3</td>\n",
       "      <td>0</td>\n",
       "      <td>0</td>\n",
       "      <td>0</td>\n",
       "      <td>0</td>\n",
       "      <td>3</td>\n",
       "      <td>0</td>\n",
       "      <td>0</td>\n",
       "      <td>0</td>\n",
       "      <td>3</td>\n",
       "      <td>2</td>\n",
       "    </tr>\n",
       "    <tr>\n",
       "      <th>A0A0G4MCH1</th>\n",
       "      <td>2</td>\n",
       "      <td>2</td>\n",
       "      <td>0</td>\n",
       "      <td>2</td>\n",
       "      <td>0</td>\n",
       "      <td>2</td>\n",
       "      <td>0</td>\n",
       "      <td>0</td>\n",
       "      <td>2</td>\n",
       "      <td>0</td>\n",
       "      <td>2</td>\n",
       "    </tr>\n",
       "    <tr>\n",
       "      <th>A0A1I8FXG0</th>\n",
       "      <td>0</td>\n",
       "      <td>0</td>\n",
       "      <td>0</td>\n",
       "      <td>0</td>\n",
       "      <td>0</td>\n",
       "      <td>0</td>\n",
       "      <td>0</td>\n",
       "      <td>0</td>\n",
       "      <td>0</td>\n",
       "      <td>0</td>\n",
       "      <td>0</td>\n",
       "    </tr>\n",
       "  </tbody>\n",
       "</table>\n",
       "</div>"
      ],
      "text/plain": [
       "            0  1  2  3  4  5  6  7  8  9  10\n",
       "split3      1  1  1  1  1  1  1  1  1  1   1\n",
       "A0A3M6V931  3  0  0  0  0  3  0  0  0  3   2\n",
       "A0A3R7Y3I5  3  0  0  0  0  3  0  0  0  3   2\n",
       "A0A0G4MCH1  2  2  0  2  0  2  0  0  2  0   2\n",
       "A0A1I8FXG0  0  0  0  0  0  0  0  0  0  0   0"
      ]
     },
     "execution_count": 42,
     "metadata": {},
     "output_type": "execute_result"
    }
   ],
   "source": [
    "dfm[:5]"
   ]
  },
  {
   "cell_type": "code",
   "execution_count": 43,
   "metadata": {},
   "outputs": [
    {
     "data": {
      "text/plain": [
       "split3        11\n",
       "A0A3M6V931     4\n",
       "A0A3R7Y3I5     4\n",
       "A0A0G4MCH1     6\n",
       "A0A1I8FXG0     0\n",
       "              ..\n",
       "W9QQC1         0\n",
       "A0A6A6UTM1     0\n",
       "A0A438JQI9     0\n",
       "A0A109LCE4     0\n",
       "A0A068UE08     0\n",
       "Length: 57473, dtype: int64"
      ]
     },
     "execution_count": 43,
     "metadata": {},
     "output_type": "execute_result"
    }
   ],
   "source": [
    "helix_counts_by_acc = dfm[(dfm != 0)].count(axis=1)\n",
    "helix_counts_by_acc"
   ]
  },
  {
   "cell_type": "code",
   "execution_count": 44,
   "metadata": {},
   "outputs": [
    {
     "data": {
      "text/html": [
       "<div>\n",
       "<style scoped>\n",
       "    .dataframe tbody tr th:only-of-type {\n",
       "        vertical-align: middle;\n",
       "    }\n",
       "\n",
       "    .dataframe tbody tr th {\n",
       "        vertical-align: top;\n",
       "    }\n",
       "\n",
       "    .dataframe thead th {\n",
       "        text-align: right;\n",
       "    }\n",
       "</style>\n",
       "<table border=\"1\" class=\"dataframe\">\n",
       "  <thead>\n",
       "    <tr style=\"text-align: right;\">\n",
       "      <th></th>\n",
       "      <th>0</th>\n",
       "      <th>1</th>\n",
       "      <th>2</th>\n",
       "      <th>3</th>\n",
       "      <th>4</th>\n",
       "      <th>5</th>\n",
       "      <th>6</th>\n",
       "      <th>7</th>\n",
       "      <th>8</th>\n",
       "      <th>9</th>\n",
       "      <th>10</th>\n",
       "    </tr>\n",
       "  </thead>\n",
       "  <tbody>\n",
       "    <tr>\n",
       "      <th>A0A359B5C6</th>\n",
       "      <td>1</td>\n",
       "      <td>1</td>\n",
       "      <td>1</td>\n",
       "      <td>1</td>\n",
       "      <td>0</td>\n",
       "      <td>1</td>\n",
       "      <td>1</td>\n",
       "      <td>1</td>\n",
       "      <td>1</td>\n",
       "      <td>1</td>\n",
       "      <td>1</td>\n",
       "    </tr>\n",
       "    <tr>\n",
       "      <th>A0A0F2PDC1</th>\n",
       "      <td>1</td>\n",
       "      <td>1</td>\n",
       "      <td>1</td>\n",
       "      <td>1</td>\n",
       "      <td>0</td>\n",
       "      <td>1</td>\n",
       "      <td>1</td>\n",
       "      <td>1</td>\n",
       "      <td>1</td>\n",
       "      <td>1</td>\n",
       "      <td>1</td>\n",
       "    </tr>\n",
       "    <tr>\n",
       "      <th>F2KR79</th>\n",
       "      <td>1</td>\n",
       "      <td>1</td>\n",
       "      <td>1</td>\n",
       "      <td>1</td>\n",
       "      <td>0</td>\n",
       "      <td>1</td>\n",
       "      <td>1</td>\n",
       "      <td>1</td>\n",
       "      <td>1</td>\n",
       "      <td>1</td>\n",
       "      <td>1</td>\n",
       "    </tr>\n",
       "    <tr>\n",
       "      <th>A0A075WBP9</th>\n",
       "      <td>1</td>\n",
       "      <td>1</td>\n",
       "      <td>1</td>\n",
       "      <td>1</td>\n",
       "      <td>0</td>\n",
       "      <td>1</td>\n",
       "      <td>1</td>\n",
       "      <td>1</td>\n",
       "      <td>1</td>\n",
       "      <td>1</td>\n",
       "      <td>1</td>\n",
       "    </tr>\n",
       "    <tr>\n",
       "      <th>O29285</th>\n",
       "      <td>1</td>\n",
       "      <td>1</td>\n",
       "      <td>1</td>\n",
       "      <td>1</td>\n",
       "      <td>0</td>\n",
       "      <td>1</td>\n",
       "      <td>1</td>\n",
       "      <td>1</td>\n",
       "      <td>1</td>\n",
       "      <td>1</td>\n",
       "      <td>1</td>\n",
       "    </tr>\n",
       "    <tr>\n",
       "      <th>...</th>\n",
       "      <td>...</td>\n",
       "      <td>...</td>\n",
       "      <td>...</td>\n",
       "      <td>...</td>\n",
       "      <td>...</td>\n",
       "      <td>...</td>\n",
       "      <td>...</td>\n",
       "      <td>...</td>\n",
       "      <td>...</td>\n",
       "      <td>...</td>\n",
       "      <td>...</td>\n",
       "    </tr>\n",
       "    <tr>\n",
       "      <th>K7G3I5</th>\n",
       "      <td>1</td>\n",
       "      <td>0</td>\n",
       "      <td>1</td>\n",
       "      <td>1</td>\n",
       "      <td>1</td>\n",
       "      <td>1</td>\n",
       "      <td>1</td>\n",
       "      <td>1</td>\n",
       "      <td>1</td>\n",
       "      <td>1</td>\n",
       "      <td>1</td>\n",
       "    </tr>\n",
       "    <tr>\n",
       "      <th>A0A212CSD5</th>\n",
       "      <td>1</td>\n",
       "      <td>0</td>\n",
       "      <td>1</td>\n",
       "      <td>1</td>\n",
       "      <td>1</td>\n",
       "      <td>1</td>\n",
       "      <td>1</td>\n",
       "      <td>1</td>\n",
       "      <td>1</td>\n",
       "      <td>1</td>\n",
       "      <td>1</td>\n",
       "    </tr>\n",
       "    <tr>\n",
       "      <th>A0A452TLL9</th>\n",
       "      <td>1</td>\n",
       "      <td>0</td>\n",
       "      <td>1</td>\n",
       "      <td>1</td>\n",
       "      <td>1</td>\n",
       "      <td>1</td>\n",
       "      <td>1</td>\n",
       "      <td>1</td>\n",
       "      <td>1</td>\n",
       "      <td>1</td>\n",
       "      <td>1</td>\n",
       "    </tr>\n",
       "    <tr>\n",
       "      <th>A0A5F5XH32</th>\n",
       "      <td>1</td>\n",
       "      <td>0</td>\n",
       "      <td>1</td>\n",
       "      <td>1</td>\n",
       "      <td>1</td>\n",
       "      <td>1</td>\n",
       "      <td>1</td>\n",
       "      <td>1</td>\n",
       "      <td>1</td>\n",
       "      <td>1</td>\n",
       "      <td>1</td>\n",
       "    </tr>\n",
       "    <tr>\n",
       "      <th>A0A674K6G9</th>\n",
       "      <td>1</td>\n",
       "      <td>0</td>\n",
       "      <td>1</td>\n",
       "      <td>1</td>\n",
       "      <td>1</td>\n",
       "      <td>1</td>\n",
       "      <td>1</td>\n",
       "      <td>1</td>\n",
       "      <td>1</td>\n",
       "      <td>1</td>\n",
       "      <td>1</td>\n",
       "    </tr>\n",
       "  </tbody>\n",
       "</table>\n",
       "<p>1429 rows × 11 columns</p>\n",
       "</div>"
      ],
      "text/plain": [
       "            0  1  2  3  4  5  6  7  8  9  10\n",
       "A0A359B5C6  1  1  1  1  0  1  1  1  1  1   1\n",
       "A0A0F2PDC1  1  1  1  1  0  1  1  1  1  1   1\n",
       "F2KR79      1  1  1  1  0  1  1  1  1  1   1\n",
       "A0A075WBP9  1  1  1  1  0  1  1  1  1  1   1\n",
       "O29285      1  1  1  1  0  1  1  1  1  1   1\n",
       "...        .. .. .. .. .. .. .. .. .. ..  ..\n",
       "K7G3I5      1  0  1  1  1  1  1  1  1  1   1\n",
       "A0A212CSD5  1  0  1  1  1  1  1  1  1  1   1\n",
       "A0A452TLL9  1  0  1  1  1  1  1  1  1  1   1\n",
       "A0A5F5XH32  1  0  1  1  1  1  1  1  1  1   1\n",
       "A0A674K6G9  1  0  1  1  1  1  1  1  1  1   1\n",
       "\n",
       "[1429 rows x 11 columns]"
      ]
     },
     "execution_count": 44,
     "metadata": {},
     "output_type": "execute_result"
    }
   ],
   "source": [
    "ten_helices = dfm.loc[list(helix_counts_by_acc[helix_counts_by_acc == 10].index),:]\n",
    "ten_helices"
   ]
  },
  {
   "cell_type": "code",
   "execution_count": 45,
   "metadata": {},
   "outputs": [],
   "source": [
    "ten_helices.to_html(\"ten_helices.html\")"
   ]
  },
  {
   "cell_type": "code",
   "execution_count": null,
   "metadata": {},
   "outputs": [],
   "source": []
  }
 ],
 "metadata": {
  "kernelspec": {
   "display_name": "Python 3",
   "language": "python",
   "name": "python3"
  },
  "language_info": {
   "codemirror_mode": {
    "name": "ipython",
    "version": 3
   },
   "file_extension": ".py",
   "mimetype": "text/x-python",
   "name": "python",
   "nbconvert_exporter": "python",
   "pygments_lexer": "ipython3",
   "version": "3.8.3"
  }
 },
 "nbformat": 4,
 "nbformat_minor": 5
}
