{
 "cells": [
  {
   "cell_type": "code",
   "execution_count": 1,
   "metadata": {},
   "outputs": [],
   "source": [
    "from Bio import SeqIO\n",
    "import pandas as pd"
   ]
  },
  {
   "cell_type": "code",
   "execution_count": 3,
   "metadata": {},
   "outputs": [],
   "source": [
    "with open(\"helix8.fasta\", \"r\") as ifh:\n",
    "    records = list(SeqIO.parse(ifh, \"fasta\"))"
   ]
  },
  {
   "cell_type": "code",
   "execution_count": 4,
   "metadata": {},
   "outputs": [],
   "source": [
    "import numpy as np"
   ]
  },
  {
   "cell_type": "code",
   "execution_count": 14,
   "metadata": {},
   "outputs": [
    {
     "name": "stdout",
     "output_type": "stream",
     "text": [
      "<generator object parse at 0x7fccb4707430>\n",
      "Alignment with 7 rows and 1062 columns\n",
      "------------------GATAAAGCCGACAATGCGTTTATGAT...GTT CAD6020544.1\n",
      "------------------AACGAAGCGCGTCTGGTAGCGCAATA...--- CAD84359.1\n",
      "------------------AACGAA------TTCTACTATCGCTA...--- NP_001307970.1\n",
      "GATTTGAATACACAATTTGACTTGGCCAACATGGGATGGATCGG...--- CAA96025.1\n",
      "ATGGAAAACATACAA---ATAAATATTAACCATTTGTGGGTGAT...AAG CAJ74453.1\n",
      "------------------AGTGACGGAAATGTCGCATGGATACT...GTG AAB90264.1\n",
      "------------------GATCGTGCCGATATGGTATGGATTGG...--- KAF6070074.1\n"
     ]
    }
   ],
   "source": [
    "from Bio import AlignIO \n",
    "  \n",
    "# Parsing Sequence Alignment\n",
    "alignment = AlignIO.parse(open(\"helixbtconcat.fasta\"), \"fasta\")\n",
    "  \n",
    "# Show alignment generator\n",
    "print(alignment)\n",
    "  \n",
    "# Printing alignment \n",
    "for alignment in alignment: \n",
    "    print(alignment)"
   ]
  },
  {
   "cell_type": "code",
   "execution_count": null,
   "metadata": {},
   "outputs": [],
   "source": []
  }
 ],
 "metadata": {
  "kernelspec": {
   "display_name": "Python 3",
   "language": "python",
   "name": "python3"
  },
  "language_info": {
   "codemirror_mode": {
    "name": "ipython",
    "version": 3
   },
   "file_extension": ".py",
   "mimetype": "text/x-python",
   "name": "python",
   "nbconvert_exporter": "python",
   "pygments_lexer": "ipython3",
   "version": "3.8.3"
  }
 },
 "nbformat": 4,
 "nbformat_minor": 4
}
